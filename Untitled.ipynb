{
 "cells": [
  {
   "cell_type": "code",
   "execution_count": 1,
   "id": "79ad1ea4",
   "metadata": {},
   "outputs": [],
   "source": [
    "import numpy as np\n",
    "import tensorflow as tf\n",
    "\n",
    "import pandas as pd"
   ]
  },
  {
   "cell_type": "code",
   "execution_count": 2,
   "id": "b0c55475",
   "metadata": {},
   "outputs": [],
   "source": [
    "import matplotlib.pyplot as plt"
   ]
  },
  {
   "cell_type": "code",
   "execution_count": 3,
   "id": "d6ea7e6d",
   "metadata": {},
   "outputs": [],
   "source": [
    "df=pd.read_csv(\"Patient participation file2.csv\")"
   ]
  },
  {
   "cell_type": "code",
   "execution_count": 4,
   "id": "3c74711e",
   "metadata": {},
   "outputs": [],
   "source": [
    "from tensorflow.keras.models import Sequential\n",
    "from tensorflow.keras.layers import Dense"
   ]
  },
  {
   "cell_type": "code",
   "execution_count": 5,
   "id": "c7500923",
   "metadata": {},
   "outputs": [],
   "source": [
    "import matplotlib.pyplot as plt\n",
    "\n",
    "import logging\n",
    "logging.getLogger(\"tensorflow\").setLevel(logging.ERROR)\n",
    "tf.autograph.set_verbosity(0)\n"
   ]
  },
  {
   "cell_type": "code",
   "execution_count": 6,
   "id": "bb475382",
   "metadata": {},
   "outputs": [
    {
     "data": {
      "text/html": [
       "<div>\n",
       "<style scoped>\n",
       "    .dataframe tbody tr th:only-of-type {\n",
       "        vertical-align: middle;\n",
       "    }\n",
       "\n",
       "    .dataframe tbody tr th {\n",
       "        vertical-align: top;\n",
       "    }\n",
       "\n",
       "    .dataframe thead th {\n",
       "        text-align: right;\n",
       "    }\n",
       "</style>\n",
       "<table border=\"1\" class=\"dataframe\">\n",
       "  <thead>\n",
       "    <tr style=\"text-align: right;\">\n",
       "      <th></th>\n",
       "      <th>Age</th>\n",
       "      <th>Mobility</th>\n",
       "      <th>Distance</th>\n",
       "      <th>Participation</th>\n",
       "    </tr>\n",
       "  </thead>\n",
       "  <tbody>\n",
       "    <tr>\n",
       "      <th>0</th>\n",
       "      <td>39</td>\n",
       "      <td>Car</td>\n",
       "      <td>30.00</td>\n",
       "      <td>1</td>\n",
       "    </tr>\n",
       "    <tr>\n",
       "      <th>1</th>\n",
       "      <td>26</td>\n",
       "      <td>Car</td>\n",
       "      <td>40.00</td>\n",
       "      <td>0</td>\n",
       "    </tr>\n",
       "    <tr>\n",
       "      <th>2</th>\n",
       "      <td>40</td>\n",
       "      <td>No car</td>\n",
       "      <td>64.00</td>\n",
       "      <td>0</td>\n",
       "    </tr>\n",
       "    <tr>\n",
       "      <th>3</th>\n",
       "      <td>20</td>\n",
       "      <td>Car</td>\n",
       "      <td>24.78</td>\n",
       "      <td>0</td>\n",
       "    </tr>\n",
       "    <tr>\n",
       "      <th>4</th>\n",
       "      <td>66</td>\n",
       "      <td>No car</td>\n",
       "      <td>49.00</td>\n",
       "      <td>0</td>\n",
       "    </tr>\n",
       "  </tbody>\n",
       "</table>\n",
       "</div>"
      ],
      "text/plain": [
       "   Age Mobility  Distance  Participation\n",
       "0   39      Car     30.00              1\n",
       "1   26      Car     40.00              0\n",
       "2   40   No car     64.00              0\n",
       "3   20      Car     24.78              0\n",
       "4   66   No car     49.00              0"
      ]
     },
     "execution_count": 6,
     "metadata": {},
     "output_type": "execute_result"
    }
   ],
   "source": [
    " df.head(5)"
   ]
  },
  {
   "cell_type": "code",
   "execution_count": 7,
   "id": "609696d7",
   "metadata": {},
   "outputs": [
    {
     "data": {
      "text/plain": [
       "array([0, 1])"
      ]
     },
     "execution_count": 7,
     "metadata": {},
     "output_type": "execute_result"
    }
   ],
   "source": [
    "from sklearn.preprocessing import LabelEncoder\n",
    "le_mobility = LabelEncoder()\n",
    "df['Mobility']=le_mobility.fit_transform(df['Mobility'])\n",
    "df[\"Mobility\"].unique()"
   ]
  },
  {
   "cell_type": "code",
   "execution_count": 8,
   "id": "d3b1f5f8",
   "metadata": {},
   "outputs": [
    {
     "data": {
      "text/html": [
       "<div>\n",
       "<style scoped>\n",
       "    .dataframe tbody tr th:only-of-type {\n",
       "        vertical-align: middle;\n",
       "    }\n",
       "\n",
       "    .dataframe tbody tr th {\n",
       "        vertical-align: top;\n",
       "    }\n",
       "\n",
       "    .dataframe thead th {\n",
       "        text-align: right;\n",
       "    }\n",
       "</style>\n",
       "<table border=\"1\" class=\"dataframe\">\n",
       "  <thead>\n",
       "    <tr style=\"text-align: right;\">\n",
       "      <th></th>\n",
       "      <th>Age</th>\n",
       "      <th>Mobility</th>\n",
       "      <th>Distance</th>\n",
       "      <th>Participation</th>\n",
       "    </tr>\n",
       "  </thead>\n",
       "  <tbody>\n",
       "    <tr>\n",
       "      <th>0</th>\n",
       "      <td>39</td>\n",
       "      <td>0</td>\n",
       "      <td>30.00</td>\n",
       "      <td>1</td>\n",
       "    </tr>\n",
       "    <tr>\n",
       "      <th>1</th>\n",
       "      <td>26</td>\n",
       "      <td>0</td>\n",
       "      <td>40.00</td>\n",
       "      <td>0</td>\n",
       "    </tr>\n",
       "    <tr>\n",
       "      <th>2</th>\n",
       "      <td>40</td>\n",
       "      <td>1</td>\n",
       "      <td>64.00</td>\n",
       "      <td>0</td>\n",
       "    </tr>\n",
       "    <tr>\n",
       "      <th>3</th>\n",
       "      <td>20</td>\n",
       "      <td>0</td>\n",
       "      <td>24.78</td>\n",
       "      <td>0</td>\n",
       "    </tr>\n",
       "    <tr>\n",
       "      <th>4</th>\n",
       "      <td>66</td>\n",
       "      <td>1</td>\n",
       "      <td>49.00</td>\n",
       "      <td>0</td>\n",
       "    </tr>\n",
       "  </tbody>\n",
       "</table>\n",
       "</div>"
      ],
      "text/plain": [
       "   Age  Mobility  Distance  Participation\n",
       "0   39         0     30.00              1\n",
       "1   26         0     40.00              0\n",
       "2   40         1     64.00              0\n",
       "3   20         0     24.78              0\n",
       "4   66         1     49.00              0"
      ]
     },
     "execution_count": 8,
     "metadata": {},
     "output_type": "execute_result"
    }
   ],
   "source": [
    "df.head(5)"
   ]
  },
  {
   "cell_type": "code",
   "execution_count": 9,
   "id": "f8ac8660",
   "metadata": {},
   "outputs": [],
   "source": [
    "\n",
    "y=df['Participation']"
   ]
  },
  {
   "cell_type": "markdown",
   "id": "2dc906ba",
   "metadata": {},
   "source": [
    "#### CONVERTING MOBILITY"
   ]
  },
  {
   "cell_type": "code",
   "execution_count": 10,
   "id": "6914749b",
   "metadata": {},
   "outputs": [],
   "source": [
    "\n",
    "df_parameters = pd.DataFrame(dict(\n",
    "    Mobility=df['Mobility'], \n",
    "    Age=df['Age'],\n",
    "    Distance=df['Distance']\n",
    "))\n"
   ]
  },
  {
   "cell_type": "code",
   "execution_count": 11,
   "id": "597d0234",
   "metadata": {},
   "outputs": [],
   "source": [
    "X = df_parameters"
   ]
  },
  {
   "cell_type": "code",
   "execution_count": 12,
   "id": "168ba816",
   "metadata": {},
   "outputs": [],
   "source": [
    "import warnings\n",
    "warnings.simplefilter(action='ignore', category=FutureWarning)\n",
    "# You do not need to modify anything in this cell\n",
    "\n",
    "\n",
    "\n",
    "    "
   ]
  },
  {
   "cell_type": "markdown",
   "id": "16205e54",
   "metadata": {},
   "source": [
    "# MODEL BUILDING"
   ]
  },
  {
   "cell_type": "code",
   "execution_count": 13,
   "id": "d32a3127",
   "metadata": {},
   "outputs": [],
   "source": [
    "model = Sequential(\n",
    "    [               \n",
    "        tf.keras.Input(shape=(3,)),\n",
    "        Dense(25, activation='relu',name='dense'),\n",
    "        Dense(15, activation ='relu',name='dense_1'),\n",
    "        \n",
    "        Dense(1, activation='sigmoid',name='dense_3')#specify input size\n",
    "        \n",
    "       \n",
    "    ], name = \"my_model\" \n",
    ")                         "
   ]
  },
  {
   "cell_type": "code",
   "execution_count": 14,
   "id": "10d620d2",
   "metadata": {},
   "outputs": [
    {
     "name": "stdout",
     "output_type": "stream",
     "text": [
      "Model: \"my_model\"\n",
      "_________________________________________________________________\n",
      " Layer (type)                Output Shape              Param #   \n",
      "=================================================================\n",
      " dense (Dense)               (None, 25)                100       \n",
      "                                                                 \n",
      " dense_1 (Dense)             (None, 15)                390       \n",
      "                                                                 \n",
      " dense_3 (Dense)             (None, 1)                 16        \n",
      "                                                                 \n",
      "=================================================================\n",
      "Total params: 506\n",
      "Trainable params: 506\n",
      "Non-trainable params: 0\n",
      "_________________________________________________________________\n"
     ]
    }
   ],
   "source": [
    "model.summary()"
   ]
  },
  {
   "cell_type": "markdown",
   "id": "a7c6c49c",
   "metadata": {},
   "source": [
    "#### CALCULATING PARAMETERS AND WEIGHTS"
   ]
  },
  {
   "cell_type": "code",
   "execution_count": 15,
   "id": "d0826a7e",
   "metadata": {},
   "outputs": [
    {
     "name": "stdout",
     "output_type": "stream",
     "text": [
      "L1 params =  100 , L2 params =  390 ,  L3 params =  16\n"
     ]
    }
   ],
   "source": [
    "L1_num_params = 3 * 25 + 25  # W1 parameters  + b1 parameters\n",
    "L2_num_params = 25 * 15 + 15   # W2 parameters  + b2 parameters\n",
    "L3_num_params = 15 * 1 + 1     # W3 parameters  + b3 parameters\n",
    "print(\"L1 params = \", L1_num_params, \", L2 params = \", L2_num_params, \",  L3 params = \", L3_num_params )"
   ]
  },
  {
   "cell_type": "code",
   "execution_count": 16,
   "id": "3e042208",
   "metadata": {},
   "outputs": [],
   "source": [
    "[layer1, layer2, layer3] = model.layers"
   ]
  },
  {
   "cell_type": "code",
   "execution_count": 17,
   "id": "a9b67dfa",
   "metadata": {},
   "outputs": [
    {
     "name": "stdout",
     "output_type": "stream",
     "text": [
      "W1 shape = (3, 25), b1 shape = (25,)\n",
      "W2 shape = (25, 15), b2 shape = (15,)\n",
      "W3 shape = (15, 1), b3 shape = (1,)\n"
     ]
    }
   ],
   "source": [
    "#### Examine Weights shapes\n",
    "W1,b1 = layer1.get_weights()\n",
    "W2,b2 = layer2.get_weights()\n",
    "W3,b3 = layer3.get_weights()\n",
    "\n",
    "print(f\"W1 shape = {W1.shape}, b1 shape = {b1.shape}\")\n",
    "print(f\"W2 shape = {W2.shape}, b2 shape = {b2.shape}\")\n",
    "print(f\"W3 shape = {W3.shape}, b3 shape = {b3.shape}\")\n"
   ]
  },
  {
   "cell_type": "code",
   "execution_count": 18,
   "id": "8857adda",
   "metadata": {},
   "outputs": [],
   "source": [
    "# print(model.layers[2].weights)"
   ]
  },
  {
   "cell_type": "markdown",
   "id": "d6bcfbf8",
   "metadata": {},
   "source": [
    "### MODEL ACCURACY"
   ]
  },
  {
   "cell_type": "code",
   "execution_count": 19,
   "id": "12121e73",
   "metadata": {},
   "outputs": [
    {
     "name": "stdout",
     "output_type": "stream",
     "text": [
      "Epoch 1/150\n",
      "103/103 [==============================] - 2s 4ms/step - loss: 0.8122 - accuracy: 0.4971\n",
      "Epoch 2/150\n",
      "103/103 [==============================] - 0s 3ms/step - loss: 0.6911 - accuracy: 0.5903\n",
      "Epoch 3/150\n",
      "103/103 [==============================] - 0s 3ms/step - loss: 0.6518 - accuracy: 0.6019\n",
      "Epoch 4/150\n",
      "103/103 [==============================] - 0s 3ms/step - loss: 0.6458 - accuracy: 0.5942\n",
      "Epoch 5/150\n",
      "103/103 [==============================] - 0s 4ms/step - loss: 0.6303 - accuracy: 0.6311\n",
      "Epoch 6/150\n",
      "103/103 [==============================] - 0s 3ms/step - loss: 0.6321 - accuracy: 0.6350\n",
      "Epoch 7/150\n",
      "103/103 [==============================] - 0s 3ms/step - loss: 0.6262 - accuracy: 0.6466\n",
      "Epoch 8/150\n",
      "103/103 [==============================] - 0s 4ms/step - loss: 0.6130 - accuracy: 0.6544\n",
      "Epoch 9/150\n",
      "103/103 [==============================] - 0s 3ms/step - loss: 0.6054 - accuracy: 0.6699\n",
      "Epoch 10/150\n",
      "103/103 [==============================] - 0s 5ms/step - loss: 0.6098 - accuracy: 0.6466\n",
      "Epoch 11/150\n",
      "103/103 [==============================] - 0s 4ms/step - loss: 0.6230 - accuracy: 0.6602\n",
      "Epoch 12/150\n",
      "103/103 [==============================] - 0s 3ms/step - loss: 0.6100 - accuracy: 0.6621\n",
      "Epoch 13/150\n",
      "103/103 [==============================] - 0s 3ms/step - loss: 0.5928 - accuracy: 0.7029\n",
      "Epoch 14/150\n",
      "103/103 [==============================] - 0s 3ms/step - loss: 0.5944 - accuracy: 0.6835\n",
      "Epoch 15/150\n",
      "103/103 [==============================] - 1s 5ms/step - loss: 0.5965 - accuracy: 0.6660\n",
      "Epoch 16/150\n",
      "103/103 [==============================] - 0s 3ms/step - loss: 0.5943 - accuracy: 0.7029\n",
      "Epoch 17/150\n",
      "103/103 [==============================] - 1s 6ms/step - loss: 0.5956 - accuracy: 0.6757\n",
      "Epoch 18/150\n",
      "103/103 [==============================] - 1s 5ms/step - loss: 0.5875 - accuracy: 0.7107\n",
      "Epoch 19/150\n",
      "103/103 [==============================] - 0s 4ms/step - loss: 0.5900 - accuracy: 0.7146\n",
      "Epoch 20/150\n",
      "103/103 [==============================] - 0s 4ms/step - loss: 0.5758 - accuracy: 0.7165\n",
      "Epoch 21/150\n",
      "103/103 [==============================] - 1s 5ms/step - loss: 0.5686 - accuracy: 0.7340\n",
      "Epoch 22/150\n",
      "103/103 [==============================] - 0s 4ms/step - loss: 0.5731 - accuracy: 0.7165\n",
      "Epoch 23/150\n",
      "103/103 [==============================] - 0s 4ms/step - loss: 0.5806 - accuracy: 0.7165\n",
      "Epoch 24/150\n",
      "103/103 [==============================] - 0s 3ms/step - loss: 0.5708 - accuracy: 0.7204\n",
      "Epoch 25/150\n",
      "103/103 [==============================] - 0s 4ms/step - loss: 0.5744 - accuracy: 0.7010\n",
      "Epoch 26/150\n",
      "103/103 [==============================] - 0s 4ms/step - loss: 0.5723 - accuracy: 0.7126\n",
      "Epoch 27/150\n",
      "103/103 [==============================] - 0s 4ms/step - loss: 0.5626 - accuracy: 0.7262\n",
      "Epoch 28/150\n",
      "103/103 [==============================] - 0s 3ms/step - loss: 0.5746 - accuracy: 0.7107\n",
      "Epoch 29/150\n",
      "103/103 [==============================] - 0s 3ms/step - loss: 0.5793 - accuracy: 0.7087\n",
      "Epoch 30/150\n",
      "103/103 [==============================] - 0s 3ms/step - loss: 0.5581 - accuracy: 0.7184\n",
      "Epoch 31/150\n",
      "103/103 [==============================] - 0s 3ms/step - loss: 0.5715 - accuracy: 0.7068\n",
      "Epoch 32/150\n",
      "103/103 [==============================] - 0s 4ms/step - loss: 0.5656 - accuracy: 0.7223\n",
      "Epoch 33/150\n",
      "103/103 [==============================] - 0s 3ms/step - loss: 0.5801 - accuracy: 0.7126\n",
      "Epoch 34/150\n",
      "103/103 [==============================] - 0s 3ms/step - loss: 0.5628 - accuracy: 0.7379\n",
      "Epoch 35/150\n",
      "103/103 [==============================] - 0s 3ms/step - loss: 0.5576 - accuracy: 0.7204\n",
      "Epoch 36/150\n",
      "103/103 [==============================] - 0s 3ms/step - loss: 0.5752 - accuracy: 0.7340\n",
      "Epoch 37/150\n",
      "103/103 [==============================] - 0s 3ms/step - loss: 0.5588 - accuracy: 0.7282\n",
      "Epoch 38/150\n",
      "103/103 [==============================] - 0s 3ms/step - loss: 0.5513 - accuracy: 0.7165\n",
      "Epoch 39/150\n",
      "103/103 [==============================] - 0s 3ms/step - loss: 0.5565 - accuracy: 0.7340\n",
      "Epoch 40/150\n",
      "103/103 [==============================] - 0s 4ms/step - loss: 0.5567 - accuracy: 0.7282\n",
      "Epoch 41/150\n",
      "103/103 [==============================] - 0s 3ms/step - loss: 0.5608 - accuracy: 0.7340\n",
      "Epoch 42/150\n",
      "103/103 [==============================] - 0s 3ms/step - loss: 0.5593 - accuracy: 0.7165\n",
      "Epoch 43/150\n",
      "103/103 [==============================] - 0s 3ms/step - loss: 0.5564 - accuracy: 0.7243\n",
      "Epoch 44/150\n",
      "103/103 [==============================] - 0s 3ms/step - loss: 0.5625 - accuracy: 0.7320\n",
      "Epoch 45/150\n",
      "103/103 [==============================] - 0s 3ms/step - loss: 0.5779 - accuracy: 0.7087\n",
      "Epoch 46/150\n",
      "103/103 [==============================] - 0s 4ms/step - loss: 0.5581 - accuracy: 0.7126\n",
      "Epoch 47/150\n",
      "103/103 [==============================] - 0s 3ms/step - loss: 0.5691 - accuracy: 0.7456\n",
      "Epoch 48/150\n",
      "103/103 [==============================] - 0s 3ms/step - loss: 0.5549 - accuracy: 0.7262\n",
      "Epoch 49/150\n",
      "103/103 [==============================] - 0s 3ms/step - loss: 0.5495 - accuracy: 0.7282\n",
      "Epoch 50/150\n",
      "103/103 [==============================] - 0s 3ms/step - loss: 0.5471 - accuracy: 0.7379\n",
      "Epoch 51/150\n",
      "103/103 [==============================] - 0s 3ms/step - loss: 0.5396 - accuracy: 0.7243\n",
      "Epoch 52/150\n",
      "103/103 [==============================] - 0s 3ms/step - loss: 0.5699 - accuracy: 0.7282\n",
      "Epoch 53/150\n",
      "103/103 [==============================] - 0s 3ms/step - loss: 0.5531 - accuracy: 0.7262\n",
      "Epoch 54/150\n",
      "103/103 [==============================] - 0s 3ms/step - loss: 0.5465 - accuracy: 0.7301\n",
      "Epoch 55/150\n",
      "103/103 [==============================] - 0s 3ms/step - loss: 0.5459 - accuracy: 0.7320\n",
      "Epoch 56/150\n",
      "103/103 [==============================] - 0s 3ms/step - loss: 0.5501 - accuracy: 0.7320\n",
      "Epoch 57/150\n",
      "103/103 [==============================] - 0s 3ms/step - loss: 0.5571 - accuracy: 0.7282\n",
      "Epoch 58/150\n",
      "103/103 [==============================] - 0s 3ms/step - loss: 0.5569 - accuracy: 0.7165\n",
      "Epoch 59/150\n",
      "103/103 [==============================] - 0s 3ms/step - loss: 0.5471 - accuracy: 0.7301\n",
      "Epoch 60/150\n",
      "103/103 [==============================] - 0s 3ms/step - loss: 0.5483 - accuracy: 0.7417\n",
      "Epoch 61/150\n",
      "103/103 [==============================] - 0s 3ms/step - loss: 0.5488 - accuracy: 0.7146\n",
      "Epoch 62/150\n",
      "103/103 [==============================] - 0s 3ms/step - loss: 0.5666 - accuracy: 0.7359\n",
      "Epoch 63/150\n",
      "103/103 [==============================] - 0s 3ms/step - loss: 0.5454 - accuracy: 0.7456\n",
      "Epoch 64/150\n",
      "103/103 [==============================] - 0s 3ms/step - loss: 0.5446 - accuracy: 0.7456\n",
      "Epoch 65/150\n",
      "103/103 [==============================] - 0s 3ms/step - loss: 0.5490 - accuracy: 0.7320\n",
      "Epoch 66/150\n",
      "103/103 [==============================] - 0s 3ms/step - loss: 0.5431 - accuracy: 0.7379\n",
      "Epoch 67/150\n",
      "103/103 [==============================] - 0s 3ms/step - loss: 0.5593 - accuracy: 0.7301\n",
      "Epoch 68/150\n",
      "103/103 [==============================] - 0s 3ms/step - loss: 0.5493 - accuracy: 0.7262\n",
      "Epoch 69/150\n",
      "103/103 [==============================] - 0s 3ms/step - loss: 0.5740 - accuracy: 0.7068\n",
      "Epoch 70/150\n",
      "103/103 [==============================] - 0s 3ms/step - loss: 0.5561 - accuracy: 0.7126\n",
      "Epoch 71/150\n",
      "103/103 [==============================] - 0s 3ms/step - loss: 0.5409 - accuracy: 0.7379\n",
      "Epoch 72/150\n",
      "103/103 [==============================] - 0s 3ms/step - loss: 0.5519 - accuracy: 0.7243\n",
      "Epoch 73/150\n",
      "103/103 [==============================] - 0s 3ms/step - loss: 0.5556 - accuracy: 0.7204\n",
      "Epoch 74/150\n",
      "103/103 [==============================] - 0s 3ms/step - loss: 0.5467 - accuracy: 0.7534\n",
      "Epoch 75/150\n",
      "103/103 [==============================] - 0s 4ms/step - loss: 0.5529 - accuracy: 0.7165\n",
      "Epoch 76/150\n",
      "103/103 [==============================] - 0s 3ms/step - loss: 0.5494 - accuracy: 0.7417\n",
      "Epoch 77/150\n",
      "103/103 [==============================] - 0s 3ms/step - loss: 0.5462 - accuracy: 0.7379\n",
      "Epoch 78/150\n",
      "103/103 [==============================] - 0s 3ms/step - loss: 0.5450 - accuracy: 0.7340\n",
      "Epoch 79/150\n",
      "103/103 [==============================] - 0s 3ms/step - loss: 0.5524 - accuracy: 0.7282\n",
      "Epoch 80/150\n",
      "103/103 [==============================] - 0s 3ms/step - loss: 0.5405 - accuracy: 0.7359\n",
      "Epoch 81/150\n"
     ]
    },
    {
     "name": "stdout",
     "output_type": "stream",
     "text": [
      "103/103 [==============================] - 0s 3ms/step - loss: 0.5399 - accuracy: 0.7282\n",
      "Epoch 82/150\n",
      "103/103 [==============================] - 0s 3ms/step - loss: 0.5564 - accuracy: 0.7398\n",
      "Epoch 83/150\n",
      "103/103 [==============================] - 0s 3ms/step - loss: 0.5445 - accuracy: 0.7320\n",
      "Epoch 84/150\n",
      "103/103 [==============================] - 0s 3ms/step - loss: 0.5401 - accuracy: 0.7437\n",
      "Epoch 85/150\n",
      "103/103 [==============================] - 0s 3ms/step - loss: 0.5401 - accuracy: 0.7282\n",
      "Epoch 86/150\n",
      "103/103 [==============================] - 0s 3ms/step - loss: 0.5396 - accuracy: 0.7340\n",
      "Epoch 87/150\n",
      "103/103 [==============================] - 0s 3ms/step - loss: 0.5414 - accuracy: 0.7534\n",
      "Epoch 88/150\n",
      "103/103 [==============================] - 0s 3ms/step - loss: 0.5399 - accuracy: 0.7417\n",
      "Epoch 89/150\n",
      "103/103 [==============================] - 0s 3ms/step - loss: 0.5467 - accuracy: 0.7262\n",
      "Epoch 90/150\n",
      "103/103 [==============================] - 0s 3ms/step - loss: 0.5415 - accuracy: 0.7301\n",
      "Epoch 91/150\n",
      "103/103 [==============================] - 0s 3ms/step - loss: 0.5481 - accuracy: 0.7262\n",
      "Epoch 92/150\n",
      "103/103 [==============================] - 0s 3ms/step - loss: 0.5439 - accuracy: 0.7165\n",
      "Epoch 93/150\n",
      "103/103 [==============================] - 0s 3ms/step - loss: 0.5450 - accuracy: 0.7243\n",
      "Epoch 94/150\n",
      "103/103 [==============================] - 0s 3ms/step - loss: 0.5356 - accuracy: 0.7495\n",
      "Epoch 95/150\n",
      "103/103 [==============================] - 0s 3ms/step - loss: 0.5360 - accuracy: 0.7320\n",
      "Epoch 96/150\n",
      "103/103 [==============================] - 0s 3ms/step - loss: 0.5370 - accuracy: 0.7476\n",
      "Epoch 97/150\n",
      "103/103 [==============================] - 0s 4ms/step - loss: 0.5379 - accuracy: 0.7359\n",
      "Epoch 98/150\n",
      "103/103 [==============================] - 0s 3ms/step - loss: 0.5404 - accuracy: 0.7340\n",
      "Epoch 99/150\n",
      "103/103 [==============================] - 0s 3ms/step - loss: 0.5363 - accuracy: 0.7282\n",
      "Epoch 100/150\n",
      "103/103 [==============================] - 0s 3ms/step - loss: 0.5459 - accuracy: 0.7417\n",
      "Epoch 101/150\n",
      "103/103 [==============================] - 0s 3ms/step - loss: 0.5449 - accuracy: 0.7437\n",
      "Epoch 102/150\n",
      "103/103 [==============================] - 0s 3ms/step - loss: 0.5339 - accuracy: 0.7301\n",
      "Epoch 103/150\n",
      "103/103 [==============================] - 0s 3ms/step - loss: 0.5485 - accuracy: 0.7359\n",
      "Epoch 104/150\n",
      "103/103 [==============================] - 0s 4ms/step - loss: 0.5398 - accuracy: 0.7262\n",
      "Epoch 105/150\n",
      "103/103 [==============================] - 0s 3ms/step - loss: 0.5484 - accuracy: 0.7184\n",
      "Epoch 106/150\n",
      "103/103 [==============================] - 0s 3ms/step - loss: 0.5458 - accuracy: 0.7437\n",
      "Epoch 107/150\n",
      "103/103 [==============================] - 0s 3ms/step - loss: 0.5335 - accuracy: 0.7340\n",
      "Epoch 108/150\n",
      "103/103 [==============================] - 0s 3ms/step - loss: 0.5421 - accuracy: 0.7262\n",
      "Epoch 109/150\n",
      "103/103 [==============================] - 0s 3ms/step - loss: 0.5443 - accuracy: 0.7340\n",
      "Epoch 110/150\n",
      "103/103 [==============================] - 0s 3ms/step - loss: 0.5469 - accuracy: 0.7379\n",
      "Epoch 111/150\n",
      "103/103 [==============================] - 0s 3ms/step - loss: 0.5276 - accuracy: 0.7553\n",
      "Epoch 112/150\n",
      "103/103 [==============================] - 0s 3ms/step - loss: 0.5411 - accuracy: 0.7282\n",
      "Epoch 113/150\n",
      "103/103 [==============================] - 0s 3ms/step - loss: 0.5416 - accuracy: 0.7282\n",
      "Epoch 114/150\n",
      "103/103 [==============================] - 0s 3ms/step - loss: 0.5428 - accuracy: 0.7223\n",
      "Epoch 115/150\n",
      "103/103 [==============================] - 0s 3ms/step - loss: 0.5517 - accuracy: 0.7340\n",
      "Epoch 116/150\n",
      "103/103 [==============================] - 0s 4ms/step - loss: 0.5344 - accuracy: 0.7398\n",
      "Epoch 117/150\n",
      "103/103 [==============================] - 0s 3ms/step - loss: 0.5506 - accuracy: 0.7398\n",
      "Epoch 118/150\n",
      "103/103 [==============================] - 0s 4ms/step - loss: 0.5324 - accuracy: 0.7359\n",
      "Epoch 119/150\n",
      "103/103 [==============================] - 0s 3ms/step - loss: 0.5359 - accuracy: 0.7398\n",
      "Epoch 120/150\n",
      "103/103 [==============================] - 0s 3ms/step - loss: 0.5381 - accuracy: 0.7379\n",
      "Epoch 121/150\n",
      "103/103 [==============================] - 0s 3ms/step - loss: 0.5453 - accuracy: 0.7359\n",
      "Epoch 122/150\n",
      "103/103 [==============================] - 0s 4ms/step - loss: 0.5341 - accuracy: 0.7320\n",
      "Epoch 123/150\n",
      "103/103 [==============================] - 0s 3ms/step - loss: 0.5337 - accuracy: 0.7282\n",
      "Epoch 124/150\n",
      "103/103 [==============================] - 0s 3ms/step - loss: 0.5419 - accuracy: 0.7184\n",
      "Epoch 125/150\n",
      "103/103 [==============================] - 0s 4ms/step - loss: 0.5410 - accuracy: 0.7320\n",
      "Epoch 126/150\n",
      "103/103 [==============================] - 0s 3ms/step - loss: 0.5345 - accuracy: 0.7359\n",
      "Epoch 127/150\n",
      "103/103 [==============================] - 0s 3ms/step - loss: 0.5350 - accuracy: 0.7495\n",
      "Epoch 128/150\n",
      "103/103 [==============================] - 0s 3ms/step - loss: 0.5288 - accuracy: 0.7340\n",
      "Epoch 129/150\n",
      "103/103 [==============================] - 0s 4ms/step - loss: 0.5292 - accuracy: 0.7320\n",
      "Epoch 130/150\n",
      "103/103 [==============================] - 0s 3ms/step - loss: 0.5408 - accuracy: 0.7437\n",
      "Epoch 131/150\n",
      "103/103 [==============================] - 0s 3ms/step - loss: 0.5247 - accuracy: 0.7301\n",
      "Epoch 132/150\n",
      "103/103 [==============================] - 0s 4ms/step - loss: 0.5339 - accuracy: 0.7262\n",
      "Epoch 133/150\n",
      "103/103 [==============================] - 0s 3ms/step - loss: 0.5356 - accuracy: 0.7398\n",
      "Epoch 134/150\n",
      "103/103 [==============================] - 0s 3ms/step - loss: 0.5283 - accuracy: 0.7379\n",
      "Epoch 135/150\n",
      "103/103 [==============================] - 0s 4ms/step - loss: 0.5287 - accuracy: 0.7515\n",
      "Epoch 136/150\n",
      "103/103 [==============================] - 0s 4ms/step - loss: 0.5390 - accuracy: 0.7398\n",
      "Epoch 137/150\n",
      "103/103 [==============================] - 0s 3ms/step - loss: 0.5391 - accuracy: 0.7262\n",
      "Epoch 138/150\n",
      "103/103 [==============================] - 0s 3ms/step - loss: 0.5448 - accuracy: 0.7379\n",
      "Epoch 139/150\n",
      "103/103 [==============================] - 0s 3ms/step - loss: 0.5299 - accuracy: 0.7359\n",
      "Epoch 140/150\n",
      "103/103 [==============================] - 0s 3ms/step - loss: 0.5425 - accuracy: 0.7223\n",
      "Epoch 141/150\n",
      "103/103 [==============================] - 0s 3ms/step - loss: 0.5376 - accuracy: 0.7301\n",
      "Epoch 142/150\n",
      "103/103 [==============================] - 0s 4ms/step - loss: 0.5360 - accuracy: 0.7340\n",
      "Epoch 143/150\n",
      "103/103 [==============================] - 0s 3ms/step - loss: 0.5333 - accuracy: 0.7398\n",
      "Epoch 144/150\n",
      "103/103 [==============================] - 0s 3ms/step - loss: 0.5300 - accuracy: 0.7398\n",
      "Epoch 145/150\n",
      "103/103 [==============================] - 0s 3ms/step - loss: 0.5294 - accuracy: 0.7417\n",
      "Epoch 146/150\n",
      "103/103 [==============================] - 1s 5ms/step - loss: 0.5348 - accuracy: 0.7495\n",
      "Epoch 147/150\n",
      "103/103 [==============================] - 0s 4ms/step - loss: 0.5344 - accuracy: 0.7379\n",
      "Epoch 148/150\n",
      "103/103 [==============================] - 0s 4ms/step - loss: 0.5371 - accuracy: 0.7262\n",
      "Epoch 149/150\n",
      "103/103 [==============================] - 0s 4ms/step - loss: 0.5326 - accuracy: 0.7534\n",
      "Epoch 150/150\n",
      "103/103 [==============================] - 0s 4ms/step - loss: 0.5337 - accuracy: 0.7320\n"
     ]
    }
   ],
   "source": [
    "model.compile(\n",
    "    loss=tf.keras.losses.BinaryCrossentropy(),\n",
    "    optimizer=tf.keras.optimizers.Adam(0.001),\n",
    "    metrics=['accuracy']\n",
    ")\n",
    "\n",
    "history =model.fit(\n",
    "    X,y,\n",
    "    \n",
    "    epochs=150,\n",
    "    batch_size=5\n",
    "    \n",
    ")"
   ]
  },
  {
   "cell_type": "markdown",
   "id": "22f952c1",
   "metadata": {},
   "source": [
    "### TRAINING VS ACCURACY PLOT"
   ]
  },
  {
   "cell_type": "code",
   "execution_count": 20,
   "id": "fb3e2499",
   "metadata": {},
   "outputs": [
    {
     "data": {
      "image/png": "[encoded data removed]",
      "text/plain": [
       "<Figure size 640x480 with 1 Axes>"
      ]
     },
     "metadata": {},
     "output_type": "display_data"
    }
   ],
   "source": [
    "loss_train = history.history['loss']\n",
    "acc_val = history.history['accuracy']\n",
    "epochs = range(1,151)\n",
    "plt.plot(epochs, loss_train, 'r', label='Training loss')\n",
    "plt.plot(epochs, acc_val, 'g', label='Accuracy')\n",
    "plt.title('Training Loss and Accuracy Plot')\n",
    "plt.xlabel('Epochs')\n",
    "plt.ylabel('Loss and Accuracy')\n",
    "plt.legend()\n",
    "plt.show()"
   ]
  },
  {
   "cell_type": "markdown",
   "id": "43d77f1c",
   "metadata": {},
   "source": [
    "### ACCURACY PLOT"
   ]
  },
  {
   "cell_type": "code",
   "execution_count": 21,
   "id": "d498fe86",
   "metadata": {},
   "outputs": [
    {
     "data": {
      "image/png": "[encoded data removed]",
      "text/plain": [
       "<Figure size 640x480 with 1 Axes>"
      ]
     },
     "metadata": {},
     "output_type": "display_data"
    }
   ],
   "source": [
    "\n",
    "acc_val = history.history['accuracy']\n",
    "epochs = range(1,151)\n",
    "\n",
    "plt.plot(epochs, acc_val, 'g', label='Accuracy per Epochs')\n",
    "plt.title('Accuracy Plot')\n",
    "plt.xlabel('Epochs')\n",
    "plt.ylabel('Accuracy')\n",
    "plt.legend()\n",
    "plt.show()"
   ]
  },
  {
   "cell_type": "code",
   "execution_count": 22,
   "id": "9a3dc217",
   "metadata": {},
   "outputs": [
    {
     "name": "stdout",
     "output_type": "stream",
     "text": [
      "17/17 [==============================] - 1s 4ms/step - loss: 0.5253 - accuracy: 0.7301\n",
      "MAX DATASET Accuracy :  0.7300971150398254\n",
      "MIN :  0.5253197550773621\n",
      "Accuracy: 52.53\n",
      "Accuracy: 73.01\n"
     ]
    }
   ],
   "source": [
    "accuracy = model.evaluate(X, y)\n",
    "\n",
    "print(\"MAX DATASET Accuracy : \",max(accuracy))\n",
    "print(\"MIN : \",min(accuracy))\n",
    "for i in accuracy: \n",
    "    print('Accuracy: %.2f' % (i*100))"
   ]
  },
  {
   "cell_type": "code",
   "execution_count": 23,
   "id": "e4910dc9",
   "metadata": {},
   "outputs": [],
   "source": [
    "DataSet_ACC=max(accuracy)"
   ]
  },
  {
   "cell_type": "code",
   "execution_count": 24,
   "id": "0560f0f7",
   "metadata": {},
   "outputs": [
    {
     "name": "stdout",
     "output_type": "stream",
     "text": [
      "17/17 [==============================] - 0s 3ms/step\n"
     ]
    }
   ],
   "source": [
    "prob_list=[]\n",
    "prediction = model.predict(X)  # a zero\n",
    "# print(f\" prediction {prediction}\")\n",
    "prob_list.append(prediction)\n",
    "\n",
    "\n"
   ]
  },
  {
   "cell_type": "code",
   "execution_count": 25,
   "id": "009b431f",
   "metadata": {},
   "outputs": [],
   "source": [
    "# # Set the figure size in inches\n",
    "# plt.figure(figsize=(10,6))\n",
    "\n",
    "# plt.scatter(prediction, df[\"Distance\"], label = \"prediction\" )\n",
    "\n",
    "# # Set x and y axes labels\n",
    "# plt.xlabel('Probability of participation')\n",
    "# plt.ylabel('Distance')\n",
    "\n",
    "# plt.title('Scatter Title')\n",
    "# plt.legend()\n",
    "# plt.show()"
   ]
  },
  {
   "cell_type": "code",
   "execution_count": 26,
   "id": "a9b63a5f",
   "metadata": {},
   "outputs": [],
   "source": [
    "\n",
    "# if prediction.any() >= [0.8]:\n",
    "#     yhat = 1\n",
    "# else:\n",
    "#     yhat = 0\n",
    "# print(f\"prediction after threshold: {yhat}\")"
   ]
  },
  {
   "cell_type": "code",
   "execution_count": 27,
   "id": "c06344f7",
   "metadata": {},
   "outputs": [],
   "source": [
    "# X=np.array([[\"No car\",30,5]])\n",
    "# X[:, 0] = le_mobility.transform(X[:,0])\n",
    "# X = X.astype(float)\n",
    "# X\n",
    "# prediction = model.predict(X)  # a zero\n",
    "# print(f\" predicting a zero: {prediction}\")"
   ]
  },
  {
   "cell_type": "code",
   "execution_count": 28,
   "id": "a366d36d",
   "metadata": {},
   "outputs": [],
   "source": [
    "\n",
    "# T=np.array([[\"Car\",28,1]])\n",
    "# T[:, 0] = le_mobility.transform(T[:,0])\n",
    "# T = T.astype(float)\n",
    "# T"
   ]
  },
  {
   "cell_type": "code",
   "execution_count": 29,
   "id": "d9b7d029",
   "metadata": {},
   "outputs": [],
   "source": [
    "# prediction = model.predict(X)  # a zero\n",
    "# print(f\" predicting a zero: {prediction}\")\n",
    "# prediction = model.predict(T)  # a one\n",
    "# print(f\" predicting a one:  {prediction} \")"
   ]
  },
  {
   "cell_type": "code",
   "execution_count": 30,
   "id": "57783baf",
   "metadata": {},
   "outputs": [],
   "source": [
    "# import pickle"
   ]
  },
  {
   "cell_type": "code",
   "execution_count": 31,
   "id": "de455198",
   "metadata": {},
   "outputs": [],
   "source": [
    "# data = {\"model\": Sequential, \"le_mobility\": le_mobility}\n",
    "# with open('saved_steps.pkl', 'wb') as file:\n",
    "#     pickle.dump(data, file)"
   ]
  },
  {
   "cell_type": "code",
   "execution_count": 32,
   "id": "409a4814",
   "metadata": {},
   "outputs": [],
   "source": [
    "# with open('saved_steps.pkl', 'rb') as file:\n",
    "#     data = pickle.load(file)\n",
    "\n",
    "# model_loaded = data[\"model\"]\n",
    "# le_mobility = data[\"le_mobility\"]\n"
   ]
  },
  {
   "cell_type": "code",
   "execution_count": 33,
   "id": "ffc133cb",
   "metadata": {},
   "outputs": [],
   "source": [
    "# prediction = model.predict(X)\n",
    "# prediction\n"
   ]
  },
  {
   "cell_type": "markdown",
   "id": "1eed26b0",
   "metadata": {},
   "source": [
    "# CROSS VALIDATION"
   ]
  },
  {
   "cell_type": "code",
   "execution_count": 34,
   "id": "ecabd87c",
   "metadata": {},
   "outputs": [],
   "source": [
    "import numpy as np\n",
    "# %matplotlib widget\n",
    "import matplotlib.pyplot as plt\n",
    "from sklearn.linear_model import LinearRegression, Ridge\n",
    "from sklearn.preprocessing import StandardScaler, PolynomialFeatures\n",
    "from sklearn.model_selection import train_test_split\n",
    "from sklearn.metrics import mean_squared_error\n",
    "import tensorflow as tf\n",
    "from tensorflow.keras.models import Sequential\n",
    "from tensorflow.keras.layers import Dense\n",
    "from tensorflow.keras.activations import relu,linear\n",
    "from tensorflow.keras.losses import SparseCategoricalCrossentropy\n",
    "from tensorflow.keras.optimizers import Adam\n"
   ]
  },
  {
   "cell_type": "markdown",
   "id": "5645998c",
   "metadata": {},
   "source": [
    "### SPLITTING DATA"
   ]
  },
  {
   "cell_type": "code",
   "execution_count": 35,
   "id": "a7657840",
   "metadata": {},
   "outputs": [
    {
     "name": "stdout",
     "output_type": "stream",
     "text": [
      "X_train.shape: (257, 3) X_cv.shape: (206, 3) X_test.shape: (52, 3)\n"
     ]
    }
   ],
   "source": [
    "X_train, X_, y_train, y_ = train_test_split(X,y,test_size=0.50, random_state=1)\n",
    "X_cv, X_test, y_cv, y_test = train_test_split(X_,y_,test_size=0.20, random_state=1)\n",
    "print(\"X_train.shape:\", X_train.shape, \"X_cv.shape:\", X_cv.shape, \"X_test.shape:\", X_test.shape)"
   ]
  },
  {
   "cell_type": "code",
   "execution_count": 36,
   "id": "0c3a70a1",
   "metadata": {},
   "outputs": [
    {
     "name": "stdout",
     "output_type": "stream",
     "text": [
      "Epoch 1/150\n",
      "42/42 [==============================] - 2s 5ms/step - loss: 0.5085 - accuracy: 0.7573\n",
      "Epoch 2/150\n",
      "42/42 [==============================] - 0s 4ms/step - loss: 0.5063 - accuracy: 0.7621\n",
      "Epoch 3/150\n",
      "42/42 [==============================] - 0s 4ms/step - loss: 0.4957 - accuracy: 0.7573\n",
      "Epoch 4/150\n",
      "42/42 [==============================] - 0s 4ms/step - loss: 0.5064 - accuracy: 0.7524\n",
      "Epoch 5/150\n",
      "42/42 [==============================] - 0s 6ms/step - loss: 0.4948 - accuracy: 0.7670\n",
      "Epoch 6/150\n",
      "42/42 [==============================] - 0s 4ms/step - loss: 0.4835 - accuracy: 0.7621\n",
      "Epoch 7/150\n",
      "42/42 [==============================] - 0s 4ms/step - loss: 0.4834 - accuracy: 0.7621\n",
      "Epoch 8/150\n",
      "42/42 [==============================] - 0s 3ms/step - loss: 0.4948 - accuracy: 0.7621\n",
      "Epoch 9/150\n",
      "42/42 [==============================] - 0s 5ms/step - loss: 0.4841 - accuracy: 0.7718\n",
      "Epoch 10/150\n",
      "42/42 [==============================] - 0s 3ms/step - loss: 0.4903 - accuracy: 0.7621\n",
      "Epoch 11/150\n",
      "42/42 [==============================] - 0s 6ms/step - loss: 0.5117 - accuracy: 0.7524\n",
      "Epoch 12/150\n",
      "42/42 [==============================] - 0s 4ms/step - loss: 0.4862 - accuracy: 0.7670\n",
      "Epoch 13/150\n",
      "42/42 [==============================] - 0s 3ms/step - loss: 0.4815 - accuracy: 0.7767\n",
      "Epoch 14/150\n",
      "42/42 [==============================] - 0s 3ms/step - loss: 0.4869 - accuracy: 0.7621\n",
      "Epoch 15/150\n",
      "42/42 [==============================] - 0s 3ms/step - loss: 0.4871 - accuracy: 0.7767\n",
      "Epoch 16/150\n",
      "42/42 [==============================] - 0s 3ms/step - loss: 0.4898 - accuracy: 0.7670\n",
      "Epoch 17/150\n",
      "42/42 [==============================] - 0s 4ms/step - loss: 0.4874 - accuracy: 0.7816\n",
      "Epoch 18/150\n",
      "42/42 [==============================] - 0s 3ms/step - loss: 0.4850 - accuracy: 0.7573\n",
      "Epoch 19/150\n",
      "42/42 [==============================] - 0s 4ms/step - loss: 0.5058 - accuracy: 0.7621\n",
      "Epoch 20/150\n",
      "42/42 [==============================] - 0s 3ms/step - loss: 0.4826 - accuracy: 0.7718\n",
      "Epoch 21/150\n",
      "42/42 [==============================] - 0s 3ms/step - loss: 0.4810 - accuracy: 0.7524\n",
      "Epoch 22/150\n",
      "42/42 [==============================] - 0s 3ms/step - loss: 0.4981 - accuracy: 0.7961\n",
      "Epoch 23/150\n",
      "42/42 [==============================] - 0s 3ms/step - loss: 0.4819 - accuracy: 0.7767\n",
      "Epoch 24/150\n",
      "42/42 [==============================] - 0s 4ms/step - loss: 0.4860 - accuracy: 0.7718\n",
      "Epoch 25/150\n",
      "42/42 [==============================] - 0s 4ms/step - loss: 0.4759 - accuracy: 0.7718\n",
      "Epoch 26/150\n",
      "42/42 [==============================] - 0s 5ms/step - loss: 0.4783 - accuracy: 0.7913\n",
      "Epoch 27/150\n",
      "42/42 [==============================] - 0s 4ms/step - loss: 0.4794 - accuracy: 0.7816\n",
      "Epoch 28/150\n",
      "42/42 [==============================] - 0s 4ms/step - loss: 0.4995 - accuracy: 0.7573\n",
      "Epoch 29/150\n",
      "42/42 [==============================] - 0s 4ms/step - loss: 0.4959 - accuracy: 0.7427\n",
      "Epoch 30/150\n",
      "42/42 [==============================] - 0s 5ms/step - loss: 0.4754 - accuracy: 0.7573\n",
      "Epoch 31/150\n",
      "42/42 [==============================] - 0s 3ms/step - loss: 0.4733 - accuracy: 0.7913\n",
      "Epoch 32/150\n",
      "42/42 [==============================] - 0s 4ms/step - loss: 0.4837 - accuracy: 0.7767\n",
      "Epoch 33/150\n",
      "42/42 [==============================] - 0s 5ms/step - loss: 0.4841 - accuracy: 0.7573\n",
      "Epoch 34/150\n",
      "42/42 [==============================] - 0s 3ms/step - loss: 0.4910 - accuracy: 0.7670\n",
      "Epoch 35/150\n",
      "42/42 [==============================] - 0s 4ms/step - loss: 0.4722 - accuracy: 0.7864\n",
      "Epoch 36/150\n",
      "42/42 [==============================] - 0s 3ms/step - loss: 0.4742 - accuracy: 0.7573\n",
      "Epoch 37/150\n",
      "42/42 [==============================] - 0s 3ms/step - loss: 0.4816 - accuracy: 0.7961\n",
      "Epoch 38/150\n",
      "42/42 [==============================] - 0s 3ms/step - loss: 0.4791 - accuracy: 0.7573\n",
      "Epoch 39/150\n",
      "42/42 [==============================] - 0s 3ms/step - loss: 0.4857 - accuracy: 0.7573\n",
      "Epoch 40/150\n",
      "42/42 [==============================] - 0s 4ms/step - loss: 0.4817 - accuracy: 0.7476\n",
      "Epoch 41/150\n",
      "42/42 [==============================] - 0s 6ms/step - loss: 0.4770 - accuracy: 0.7573\n",
      "Epoch 42/150\n",
      "42/42 [==============================] - 0s 3ms/step - loss: 0.4747 - accuracy: 0.7913\n",
      "Epoch 43/150\n",
      "42/42 [==============================] - 0s 3ms/step - loss: 0.4831 - accuracy: 0.7573\n",
      "Epoch 44/150\n",
      "42/42 [==============================] - 0s 3ms/step - loss: 0.4772 - accuracy: 0.7961\n",
      "Epoch 45/150\n",
      "42/42 [==============================] - 0s 3ms/step - loss: 0.4839 - accuracy: 0.7573\n",
      "Epoch 46/150\n",
      "42/42 [==============================] - 0s 4ms/step - loss: 0.4809 - accuracy: 0.7670\n",
      "Epoch 47/150\n",
      "42/42 [==============================] - 0s 3ms/step - loss: 0.4761 - accuracy: 0.7816\n",
      "Epoch 48/150\n",
      "42/42 [==============================] - 0s 4ms/step - loss: 0.4719 - accuracy: 0.7864\n",
      "Epoch 49/150\n",
      "42/42 [==============================] - 0s 4ms/step - loss: 0.4783 - accuracy: 0.7961\n",
      "Epoch 50/150\n",
      "42/42 [==============================] - 0s 3ms/step - loss: 0.4812 - accuracy: 0.7718\n",
      "Epoch 51/150\n",
      "42/42 [==============================] - 0s 3ms/step - loss: 0.4790 - accuracy: 0.7621\n",
      "Epoch 52/150\n",
      "42/42 [==============================] - 0s 3ms/step - loss: 0.4773 - accuracy: 0.7573\n",
      "Epoch 53/150\n",
      "42/42 [==============================] - 0s 3ms/step - loss: 0.4785 - accuracy: 0.7670\n",
      "Epoch 54/150\n",
      "42/42 [==============================] - 0s 3ms/step - loss: 0.4739 - accuracy: 0.8010\n",
      "Epoch 55/150\n",
      "42/42 [==============================] - 0s 3ms/step - loss: 0.4790 - accuracy: 0.7767\n",
      "Epoch 56/150\n",
      "42/42 [==============================] - 0s 4ms/step - loss: 0.4702 - accuracy: 0.8058\n",
      "Epoch 57/150\n",
      "42/42 [==============================] - 0s 4ms/step - loss: 0.4952 - accuracy: 0.7282\n",
      "Epoch 58/150\n",
      "42/42 [==============================] - 0s 3ms/step - loss: 0.4899 - accuracy: 0.7816\n",
      "Epoch 59/150\n",
      "42/42 [==============================] - 0s 3ms/step - loss: 0.4678 - accuracy: 0.7864\n",
      "Epoch 60/150\n",
      "42/42 [==============================] - 0s 3ms/step - loss: 0.4787 - accuracy: 0.7816\n",
      "Epoch 61/150\n",
      "42/42 [==============================] - 0s 3ms/step - loss: 0.4707 - accuracy: 0.7864\n",
      "Epoch 62/150\n",
      "42/42 [==============================] - 0s 3ms/step - loss: 0.4777 - accuracy: 0.7961\n",
      "Epoch 63/150\n",
      "42/42 [==============================] - 0s 3ms/step - loss: 0.4671 - accuracy: 0.8107\n",
      "Epoch 64/150\n",
      "42/42 [==============================] - 0s 5ms/step - loss: 0.4959 - accuracy: 0.7718\n",
      "Epoch 65/150\n",
      "42/42 [==============================] - 0s 3ms/step - loss: 0.4706 - accuracy: 0.7864\n",
      "Epoch 66/150\n",
      "42/42 [==============================] - 0s 3ms/step - loss: 0.4725 - accuracy: 0.7864\n",
      "Epoch 67/150\n",
      "42/42 [==============================] - 0s 3ms/step - loss: 0.4728 - accuracy: 0.8010\n",
      "Epoch 68/150\n",
      "42/42 [==============================] - 0s 3ms/step - loss: 0.4835 - accuracy: 0.7816\n",
      "Epoch 69/150\n",
      "42/42 [==============================] - 0s 3ms/step - loss: 0.4994 - accuracy: 0.7524\n",
      "Epoch 70/150\n",
      "42/42 [==============================] - 0s 4ms/step - loss: 0.4758 - accuracy: 0.7961\n",
      "Epoch 71/150\n",
      "42/42 [==============================] - 0s 5ms/step - loss: 0.4795 - accuracy: 0.7670\n",
      "Epoch 72/150\n",
      "42/42 [==============================] - 0s 5ms/step - loss: 0.4855 - accuracy: 0.7913\n",
      "Epoch 73/150\n",
      "42/42 [==============================] - 0s 3ms/step - loss: 0.5025 - accuracy: 0.7767\n",
      "Epoch 74/150\n",
      "42/42 [==============================] - 0s 4ms/step - loss: 0.4740 - accuracy: 0.7913\n",
      "Epoch 75/150\n",
      "42/42 [==============================] - 0s 3ms/step - loss: 0.4721 - accuracy: 0.7913\n",
      "Epoch 76/150\n",
      "42/42 [==============================] - 0s 3ms/step - loss: 0.4768 - accuracy: 0.7864\n",
      "Epoch 77/150\n",
      "42/42 [==============================] - 0s 3ms/step - loss: 0.4738 - accuracy: 0.7670\n",
      "Epoch 78/150\n",
      "42/42 [==============================] - 0s 3ms/step - loss: 0.4707 - accuracy: 0.7767\n",
      "Epoch 79/150\n",
      "42/42 [==============================] - 0s 3ms/step - loss: 0.4791 - accuracy: 0.7670\n",
      "Epoch 80/150\n",
      "42/42 [==============================] - 0s 5ms/step - loss: 0.4673 - accuracy: 0.7816\n",
      "Epoch 81/150\n",
      "42/42 [==============================] - 0s 4ms/step - loss: 0.4906 - accuracy: 0.7670\n",
      "Epoch 82/150\n",
      "42/42 [==============================] - 0s 3ms/step - loss: 0.4798 - accuracy: 0.7718\n",
      "Epoch 83/150\n"
     ]
    },
    {
     "name": "stdout",
     "output_type": "stream",
     "text": [
      "42/42 [==============================] - 0s 3ms/step - loss: 0.4710 - accuracy: 0.8010\n",
      "Epoch 84/150\n",
      "42/42 [==============================] - 0s 3ms/step - loss: 0.4803 - accuracy: 0.8010\n",
      "Epoch 85/150\n",
      "42/42 [==============================] - 0s 3ms/step - loss: 0.4846 - accuracy: 0.7816\n",
      "Epoch 86/150\n",
      "42/42 [==============================] - 0s 3ms/step - loss: 0.4790 - accuracy: 0.7670\n",
      "Epoch 87/150\n",
      "42/42 [==============================] - 0s 3ms/step - loss: 0.4926 - accuracy: 0.7816\n",
      "Epoch 88/150\n",
      "42/42 [==============================] - 0s 6ms/step - loss: 0.4765 - accuracy: 0.7718\n",
      "Epoch 89/150\n",
      "42/42 [==============================] - 0s 4ms/step - loss: 0.4756 - accuracy: 0.7767\n",
      "Epoch 90/150\n",
      "42/42 [==============================] - 0s 4ms/step - loss: 0.4778 - accuracy: 0.7913\n",
      "Epoch 91/150\n",
      "42/42 [==============================] - 0s 3ms/step - loss: 0.4682 - accuracy: 0.7961\n",
      "Epoch 92/150\n",
      "42/42 [==============================] - 0s 3ms/step - loss: 0.4811 - accuracy: 0.7573\n",
      "Epoch 93/150\n",
      "42/42 [==============================] - 0s 3ms/step - loss: 0.4825 - accuracy: 0.7621\n",
      "Epoch 94/150\n",
      "42/42 [==============================] - 0s 4ms/step - loss: 0.4768 - accuracy: 0.7767\n",
      "Epoch 95/150\n",
      "42/42 [==============================] - 0s 5ms/step - loss: 0.4876 - accuracy: 0.7718\n",
      "Epoch 96/150\n",
      "42/42 [==============================] - 0s 3ms/step - loss: 0.4766 - accuracy: 0.7913\n",
      "Epoch 97/150\n",
      "42/42 [==============================] - 0s 3ms/step - loss: 0.4627 - accuracy: 0.8010\n",
      "Epoch 98/150\n",
      "42/42 [==============================] - 0s 3ms/step - loss: 0.4653 - accuracy: 0.7767\n",
      "Epoch 99/150\n",
      "42/42 [==============================] - 0s 4ms/step - loss: 0.4744 - accuracy: 0.7913\n",
      "Epoch 100/150\n",
      "42/42 [==============================] - 0s 3ms/step - loss: 0.4756 - accuracy: 0.7864\n",
      "Epoch 101/150\n",
      "42/42 [==============================] - 0s 3ms/step - loss: 0.4975 - accuracy: 0.7524\n",
      "Epoch 102/150\n",
      "42/42 [==============================] - 0s 4ms/step - loss: 0.4615 - accuracy: 0.8058\n",
      "Epoch 103/150\n",
      "42/42 [==============================] - 0s 4ms/step - loss: 0.4751 - accuracy: 0.7816\n",
      "Epoch 104/150\n",
      "42/42 [==============================] - 0s 3ms/step - loss: 0.4661 - accuracy: 0.7961\n",
      "Epoch 105/150\n",
      "42/42 [==============================] - 0s 3ms/step - loss: 0.4704 - accuracy: 0.7961\n",
      "Epoch 106/150\n",
      "42/42 [==============================] - 0s 3ms/step - loss: 0.4673 - accuracy: 0.7913\n",
      "Epoch 107/150\n",
      "42/42 [==============================] - 0s 4ms/step - loss: 0.4653 - accuracy: 0.7767\n",
      "Epoch 108/150\n",
      "42/42 [==============================] - 0s 3ms/step - loss: 0.4719 - accuracy: 0.7670\n",
      "Epoch 109/150\n",
      "42/42 [==============================] - 0s 3ms/step - loss: 0.4756 - accuracy: 0.7670\n",
      "Epoch 110/150\n",
      "42/42 [==============================] - 0s 5ms/step - loss: 0.4726 - accuracy: 0.7816\n",
      "Epoch 111/150\n",
      "42/42 [==============================] - 0s 3ms/step - loss: 0.4834 - accuracy: 0.7524\n",
      "Epoch 112/150\n",
      "42/42 [==============================] - 0s 3ms/step - loss: 0.4667 - accuracy: 0.7913\n",
      "Epoch 113/150\n",
      "42/42 [==============================] - 0s 3ms/step - loss: 0.4671 - accuracy: 0.8010\n",
      "Epoch 114/150\n",
      "42/42 [==============================] - 0s 3ms/step - loss: 0.4662 - accuracy: 0.7961\n",
      "Epoch 115/150\n",
      "42/42 [==============================] - 0s 3ms/step - loss: 0.4657 - accuracy: 0.7961\n",
      "Epoch 116/150\n",
      "42/42 [==============================] - 0s 3ms/step - loss: 0.4700 - accuracy: 0.7913\n",
      "Epoch 117/150\n",
      "42/42 [==============================] - 0s 3ms/step - loss: 0.4718 - accuracy: 0.7816\n",
      "Epoch 118/150\n",
      "42/42 [==============================] - 0s 4ms/step - loss: 0.4638 - accuracy: 0.7913\n",
      "Epoch 119/150\n",
      "42/42 [==============================] - 0s 4ms/step - loss: 0.4655 - accuracy: 0.7864\n",
      "Epoch 120/150\n",
      "42/42 [==============================] - 0s 3ms/step - loss: 0.4741 - accuracy: 0.7961\n",
      "Epoch 121/150\n",
      "42/42 [==============================] - 0s 3ms/step - loss: 0.4663 - accuracy: 0.7767\n",
      "Epoch 122/150\n",
      "42/42 [==============================] - 0s 3ms/step - loss: 0.4760 - accuracy: 0.7864\n",
      "Epoch 123/150\n",
      "42/42 [==============================] - 0s 3ms/step - loss: 0.4608 - accuracy: 0.7913\n",
      "Epoch 124/150\n",
      "42/42 [==============================] - 0s 4ms/step - loss: 0.4771 - accuracy: 0.7864\n",
      "Epoch 125/150\n",
      "42/42 [==============================] - 0s 4ms/step - loss: 0.4633 - accuracy: 0.7767\n",
      "Epoch 126/150\n",
      "42/42 [==============================] - 0s 4ms/step - loss: 0.4740 - accuracy: 0.7767\n",
      "Epoch 127/150\n",
      "42/42 [==============================] - 0s 3ms/step - loss: 0.4762 - accuracy: 0.7864\n",
      "Epoch 128/150\n",
      "42/42 [==============================] - 0s 3ms/step - loss: 0.4710 - accuracy: 0.7913\n",
      "Epoch 129/150\n",
      "42/42 [==============================] - 0s 3ms/step - loss: 0.4663 - accuracy: 0.7816\n",
      "Epoch 130/150\n",
      "42/42 [==============================] - 0s 3ms/step - loss: 0.4723 - accuracy: 0.7816\n",
      "Epoch 131/150\n",
      "42/42 [==============================] - 0s 3ms/step - loss: 0.4696 - accuracy: 0.8010\n",
      "Epoch 132/150\n",
      "42/42 [==============================] - 0s 3ms/step - loss: 0.4705 - accuracy: 0.7961\n",
      "Epoch 133/150\n",
      "42/42 [==============================] - 0s 3ms/step - loss: 0.5003 - accuracy: 0.7573\n",
      "Epoch 134/150\n",
      "42/42 [==============================] - 0s 4ms/step - loss: 0.4869 - accuracy: 0.7961\n",
      "Epoch 135/150\n",
      "42/42 [==============================] - 0s 3ms/step - loss: 0.4668 - accuracy: 0.8010\n",
      "Epoch 136/150\n",
      "42/42 [==============================] - 0s 3ms/step - loss: 0.4680 - accuracy: 0.7961\n",
      "Epoch 137/150\n",
      "42/42 [==============================] - 0s 4ms/step - loss: 0.4706 - accuracy: 0.7573\n",
      "Epoch 138/150\n",
      "42/42 [==============================] - 0s 4ms/step - loss: 0.4743 - accuracy: 0.7961\n",
      "Epoch 139/150\n",
      "42/42 [==============================] - 0s 3ms/step - loss: 0.4761 - accuracy: 0.7767\n",
      "Epoch 140/150\n",
      "42/42 [==============================] - 0s 3ms/step - loss: 0.4831 - accuracy: 0.7864\n",
      "Epoch 141/150\n",
      "42/42 [==============================] - 0s 3ms/step - loss: 0.4700 - accuracy: 0.8010\n",
      "Epoch 142/150\n",
      "42/42 [==============================] - 0s 4ms/step - loss: 0.4720 - accuracy: 0.7621\n",
      "Epoch 143/150\n",
      "42/42 [==============================] - 0s 3ms/step - loss: 0.4731 - accuracy: 0.7816\n",
      "Epoch 144/150\n",
      "42/42 [==============================] - 0s 3ms/step - loss: 0.4820 - accuracy: 0.8010\n",
      "Epoch 145/150\n",
      "42/42 [==============================] - 0s 3ms/step - loss: 0.4655 - accuracy: 0.7961\n",
      "Epoch 146/150\n",
      "42/42 [==============================] - 0s 3ms/step - loss: 0.4598 - accuracy: 0.7816\n",
      "Epoch 147/150\n",
      "42/42 [==============================] - 0s 5ms/step - loss: 0.4716 - accuracy: 0.7961\n",
      "Epoch 148/150\n",
      "42/42 [==============================] - 0s 6ms/step - loss: 0.4645 - accuracy: 0.8058\n",
      "Epoch 149/150\n",
      "42/42 [==============================] - 0s 5ms/step - loss: 0.4814 - accuracy: 0.8010\n",
      "Epoch 150/150\n",
      "42/42 [==============================] - 0s 3ms/step - loss: 0.4862 - accuracy: 0.7718\n"
     ]
    }
   ],
   "source": [
    "model.compile(\n",
    "    loss=tf.keras.losses.BinaryCrossentropy(),\n",
    "    optimizer=tf.keras.optimizers.Adam(0.001),\n",
    "    metrics=['accuracy']\n",
    ")\n",
    "history2 = model.fit(\n",
    "    X_cv,y_cv,\n",
    "    epochs=150,\n",
    "    batch_size=5\n",
    "    \n",
    ")"
   ]
  },
  {
   "cell_type": "markdown",
   "id": "1ede981e",
   "metadata": {},
   "source": [
    "### CV ACCURACY"
   ]
  },
  {
   "cell_type": "code",
   "execution_count": 37,
   "id": "116027d0",
   "metadata": {},
   "outputs": [
    {
     "name": "stdout",
     "output_type": "stream",
     "text": [
      "7/7 [==============================] - 0s 3ms/step - loss: 0.4504 - accuracy: 0.7913\n"
     ]
    }
   ],
   "source": [
    "accuracy = model.evaluate(X_cv, y_cv)\n",
    "\n",
    "# for i in accuracy: \n",
    "#     print('Accuracy: %.2f' % (i*100))"
   ]
  },
  {
   "cell_type": "code",
   "execution_count": 38,
   "id": "1ff8013b",
   "metadata": {},
   "outputs": [],
   "source": [
    "CV_ACC = max(accuracy)"
   ]
  },
  {
   "cell_type": "markdown",
   "id": "0382d90d",
   "metadata": {},
   "source": [
    "## PREDICTING CV"
   ]
  },
  {
   "cell_type": "code",
   "execution_count": 39,
   "id": "04b400dc",
   "metadata": {},
   "outputs": [
    {
     "name": "stdout",
     "output_type": "stream",
     "text": [
      "7/7 [==============================] - 0s 4ms/step\n"
     ]
    }
   ],
   "source": [
    "\n",
    "prediction_cv = model.predict(X_cv)  # a zero\n",
    "# print(f\" prediction {prediction_cv}\")\n",
    "# prediction_cv\n"
   ]
  },
  {
   "cell_type": "code",
   "execution_count": 40,
   "id": "2c5f6212",
   "metadata": {},
   "outputs": [
    {
     "data": {
      "text/plain": [
       "206"
      ]
     },
     "execution_count": 40,
     "metadata": {},
     "output_type": "execute_result"
    }
   ],
   "source": [
    "len(X_cv)"
   ]
  },
  {
   "cell_type": "markdown",
   "id": "509a79af",
   "metadata": {},
   "source": [
    "### Training Set Accuracy"
   ]
  },
  {
   "cell_type": "code",
   "execution_count": 41,
   "id": "fc25f528",
   "metadata": {},
   "outputs": [
    {
     "name": "stdout",
     "output_type": "stream",
     "text": [
      "Epoch 1/150\n",
      "52/52 [==============================] - 2s 3ms/step - loss: 0.6045 - accuracy: 0.7315\n",
      "Epoch 2/150\n",
      "52/52 [==============================] - 0s 3ms/step - loss: 0.5749 - accuracy: 0.7315\n",
      "Epoch 3/150\n",
      "52/52 [==============================] - 0s 4ms/step - loss: 0.5707 - accuracy: 0.7393\n",
      "Epoch 4/150\n",
      "52/52 [==============================] - 0s 3ms/step - loss: 0.5602 - accuracy: 0.7276\n",
      "Epoch 5/150\n",
      "52/52 [==============================] - 0s 4ms/step - loss: 0.5599 - accuracy: 0.7082\n",
      "Epoch 6/150\n",
      "52/52 [==============================] - 0s 3ms/step - loss: 0.5501 - accuracy: 0.7354\n",
      "Epoch 7/150\n",
      "52/52 [==============================] - 0s 3ms/step - loss: 0.5734 - accuracy: 0.7276\n",
      "Epoch 8/150\n",
      "52/52 [==============================] - 0s 3ms/step - loss: 0.5546 - accuracy: 0.7315\n",
      "Epoch 9/150\n",
      "52/52 [==============================] - 0s 3ms/step - loss: 0.5499 - accuracy: 0.7315\n",
      "Epoch 10/150\n",
      "52/52 [==============================] - 0s 4ms/step - loss: 0.5560 - accuracy: 0.7315\n",
      "Epoch 11/150\n",
      "52/52 [==============================] - 0s 5ms/step - loss: 0.5330 - accuracy: 0.7315\n",
      "Epoch 12/150\n",
      "52/52 [==============================] - 0s 4ms/step - loss: 0.5491 - accuracy: 0.7160\n",
      "Epoch 13/150\n",
      "52/52 [==============================] - 0s 4ms/step - loss: 0.5419 - accuracy: 0.7237\n",
      "Epoch 14/150\n",
      "52/52 [==============================] - 0s 3ms/step - loss: 0.5384 - accuracy: 0.7315\n",
      "Epoch 15/150\n",
      "52/52 [==============================] - 0s 3ms/step - loss: 0.5363 - accuracy: 0.7276\n",
      "Epoch 16/150\n",
      "52/52 [==============================] - 0s 3ms/step - loss: 0.5396 - accuracy: 0.7237\n",
      "Epoch 17/150\n",
      "52/52 [==============================] - 0s 5ms/step - loss: 0.5474 - accuracy: 0.7198\n",
      "Epoch 18/150\n",
      "52/52 [==============================] - 0s 3ms/step - loss: 0.5372 - accuracy: 0.7237\n",
      "Epoch 19/150\n",
      "52/52 [==============================] - 0s 3ms/step - loss: 0.5439 - accuracy: 0.7160\n",
      "Epoch 20/150\n",
      "52/52 [==============================] - 0s 3ms/step - loss: 0.5333 - accuracy: 0.7354\n",
      "Epoch 21/150\n",
      "52/52 [==============================] - 0s 3ms/step - loss: 0.5441 - accuracy: 0.7276\n",
      "Epoch 22/150\n",
      "52/52 [==============================] - 0s 3ms/step - loss: 0.5465 - accuracy: 0.7198\n",
      "Epoch 23/150\n",
      "52/52 [==============================] - 0s 4ms/step - loss: 0.5366 - accuracy: 0.7237\n",
      "Epoch 24/150\n",
      "52/52 [==============================] - 0s 3ms/step - loss: 0.5395 - accuracy: 0.7315\n",
      "Epoch 25/150\n",
      "52/52 [==============================] - 0s 3ms/step - loss: 0.5369 - accuracy: 0.7198\n",
      "Epoch 26/150\n",
      "52/52 [==============================] - 0s 3ms/step - loss: 0.5299 - accuracy: 0.7121\n",
      "Epoch 27/150\n",
      "52/52 [==============================] - 0s 3ms/step - loss: 0.5418 - accuracy: 0.7276\n",
      "Epoch 28/150\n",
      "52/52 [==============================] - 0s 3ms/step - loss: 0.5502 - accuracy: 0.7043\n",
      "Epoch 29/150\n",
      "52/52 [==============================] - 0s 5ms/step - loss: 0.5312 - accuracy: 0.7471\n",
      "Epoch 30/150\n",
      "52/52 [==============================] - 0s 4ms/step - loss: 0.5415 - accuracy: 0.7354\n",
      "Epoch 31/150\n",
      "52/52 [==============================] - 0s 3ms/step - loss: 0.5405 - accuracy: 0.7082\n",
      "Epoch 32/150\n",
      "52/52 [==============================] - 0s 3ms/step - loss: 0.5314 - accuracy: 0.7276\n",
      "Epoch 33/150\n",
      "52/52 [==============================] - 0s 3ms/step - loss: 0.5301 - accuracy: 0.7198\n",
      "Epoch 34/150\n",
      "52/52 [==============================] - 0s 3ms/step - loss: 0.5335 - accuracy: 0.7160\n",
      "Epoch 35/150\n",
      "52/52 [==============================] - 0s 3ms/step - loss: 0.5271 - accuracy: 0.7276\n",
      "Epoch 36/150\n",
      "52/52 [==============================] - 0s 4ms/step - loss: 0.5347 - accuracy: 0.7160\n",
      "Epoch 37/150\n",
      "52/52 [==============================] - 0s 4ms/step - loss: 0.5324 - accuracy: 0.7237\n",
      "Epoch 38/150\n",
      "52/52 [==============================] - 0s 3ms/step - loss: 0.5547 - accuracy: 0.7043\n",
      "Epoch 39/150\n",
      "52/52 [==============================] - 0s 3ms/step - loss: 0.5397 - accuracy: 0.7315\n",
      "Epoch 40/150\n",
      "52/52 [==============================] - 0s 3ms/step - loss: 0.5402 - accuracy: 0.7315\n",
      "Epoch 41/150\n",
      "52/52 [==============================] - 0s 3ms/step - loss: 0.5272 - accuracy: 0.7315\n",
      "Epoch 42/150\n",
      "52/52 [==============================] - 0s 5ms/step - loss: 0.5343 - accuracy: 0.7315\n",
      "Epoch 43/150\n",
      "52/52 [==============================] - 0s 3ms/step - loss: 0.5315 - accuracy: 0.7237\n",
      "Epoch 44/150\n",
      "52/52 [==============================] - 0s 4ms/step - loss: 0.5397 - accuracy: 0.7237\n",
      "Epoch 45/150\n",
      "52/52 [==============================] - 0s 3ms/step - loss: 0.5309 - accuracy: 0.7198\n",
      "Epoch 46/150\n",
      "52/52 [==============================] - 0s 3ms/step - loss: 0.5349 - accuracy: 0.7198\n",
      "Epoch 47/150\n",
      "52/52 [==============================] - 0s 4ms/step - loss: 0.5384 - accuracy: 0.7198\n",
      "Epoch 48/150\n",
      "52/52 [==============================] - 0s 5ms/step - loss: 0.5301 - accuracy: 0.7121\n",
      "Epoch 49/150\n",
      "52/52 [==============================] - 0s 3ms/step - loss: 0.5512 - accuracy: 0.7276\n",
      "Epoch 50/150\n",
      "52/52 [==============================] - 0s 4ms/step - loss: 0.5452 - accuracy: 0.7354\n",
      "Epoch 51/150\n",
      "52/52 [==============================] - 0s 4ms/step - loss: 0.5277 - accuracy: 0.7004\n",
      "Epoch 52/150\n",
      "52/52 [==============================] - 0s 4ms/step - loss: 0.5326 - accuracy: 0.7237\n",
      "Epoch 53/150\n",
      "52/52 [==============================] - 0s 3ms/step - loss: 0.5233 - accuracy: 0.7276\n",
      "Epoch 54/150\n",
      "52/52 [==============================] - 0s 4ms/step - loss: 0.5407 - accuracy: 0.7160\n",
      "Epoch 55/150\n",
      "52/52 [==============================] - 0s 3ms/step - loss: 0.5357 - accuracy: 0.7043\n",
      "Epoch 56/150\n",
      "52/52 [==============================] - 0s 3ms/step - loss: 0.5529 - accuracy: 0.6965\n",
      "Epoch 57/150\n",
      "52/52 [==============================] - 0s 3ms/step - loss: 0.5342 - accuracy: 0.7121\n",
      "Epoch 58/150\n",
      "52/52 [==============================] - 0s 3ms/step - loss: 0.5267 - accuracy: 0.7160\n",
      "Epoch 59/150\n",
      "52/52 [==============================] - 0s 3ms/step - loss: 0.5345 - accuracy: 0.7276\n",
      "Epoch 60/150\n",
      "52/52 [==============================] - 0s 4ms/step - loss: 0.5260 - accuracy: 0.7276\n",
      "Epoch 61/150\n",
      "52/52 [==============================] - 0s 3ms/step - loss: 0.5381 - accuracy: 0.7237\n",
      "Epoch 62/150\n",
      "52/52 [==============================] - 0s 3ms/step - loss: 0.5390 - accuracy: 0.7082\n",
      "Epoch 63/150\n",
      "52/52 [==============================] - 0s 3ms/step - loss: 0.5397 - accuracy: 0.7198\n",
      "Epoch 64/150\n",
      "52/52 [==============================] - 0s 3ms/step - loss: 0.5271 - accuracy: 0.7276\n",
      "Epoch 65/150\n",
      "52/52 [==============================] - 0s 3ms/step - loss: 0.5316 - accuracy: 0.7276\n",
      "Epoch 66/150\n",
      "52/52 [==============================] - 0s 3ms/step - loss: 0.5326 - accuracy: 0.7160\n",
      "Epoch 67/150\n",
      "52/52 [==============================] - 0s 6ms/step - loss: 0.5340 - accuracy: 0.7082\n",
      "Epoch 68/150\n",
      "52/52 [==============================] - 0s 3ms/step - loss: 0.5268 - accuracy: 0.7237\n",
      "Epoch 69/150\n",
      "52/52 [==============================] - 0s 3ms/step - loss: 0.5211 - accuracy: 0.7237\n",
      "Epoch 70/150\n",
      "52/52 [==============================] - 0s 4ms/step - loss: 0.5377 - accuracy: 0.7432\n",
      "Epoch 71/150\n",
      "52/52 [==============================] - 0s 3ms/step - loss: 0.5311 - accuracy: 0.7276\n",
      "Epoch 72/150\n",
      "52/52 [==============================] - 0s 3ms/step - loss: 0.5188 - accuracy: 0.7315\n",
      "Epoch 73/150\n",
      "52/52 [==============================] - 0s 4ms/step - loss: 0.5306 - accuracy: 0.7315\n",
      "Epoch 74/150\n",
      "52/52 [==============================] - 0s 3ms/step - loss: 0.5318 - accuracy: 0.7043\n",
      "Epoch 75/150\n",
      "52/52 [==============================] - 0s 3ms/step - loss: 0.5293 - accuracy: 0.7198\n",
      "Epoch 76/150\n",
      "52/52 [==============================] - 0s 3ms/step - loss: 0.5276 - accuracy: 0.7198\n",
      "Epoch 77/150\n",
      "52/52 [==============================] - 0s 3ms/step - loss: 0.5266 - accuracy: 0.7432\n",
      "Epoch 78/150\n",
      "52/52 [==============================] - 0s 3ms/step - loss: 0.5472 - accuracy: 0.6965\n",
      "Epoch 79/150\n",
      "52/52 [==============================] - 0s 3ms/step - loss: 0.5249 - accuracy: 0.7276\n",
      "Epoch 80/150\n",
      "52/52 [==============================] - 0s 4ms/step - loss: 0.5261 - accuracy: 0.7121\n",
      "Epoch 81/150\n",
      "52/52 [==============================] - 0s 3ms/step - loss: 0.5157 - accuracy: 0.7160\n",
      "Epoch 82/150\n",
      "52/52 [==============================] - 0s 3ms/step - loss: 0.5352 - accuracy: 0.7082\n",
      "Epoch 83/150\n"
     ]
    },
    {
     "name": "stdout",
     "output_type": "stream",
     "text": [
      "52/52 [==============================] - 0s 3ms/step - loss: 0.5223 - accuracy: 0.7121\n",
      "Epoch 84/150\n",
      "52/52 [==============================] - 0s 3ms/step - loss: 0.5267 - accuracy: 0.6965\n",
      "Epoch 85/150\n",
      "52/52 [==============================] - 0s 3ms/step - loss: 0.5224 - accuracy: 0.7315\n",
      "Epoch 86/150\n",
      "52/52 [==============================] - 0s 4ms/step - loss: 0.5284 - accuracy: 0.7276\n",
      "Epoch 87/150\n",
      "52/52 [==============================] - 0s 3ms/step - loss: 0.5270 - accuracy: 0.7198\n",
      "Epoch 88/150\n",
      "52/52 [==============================] - 0s 3ms/step - loss: 0.5182 - accuracy: 0.7315\n",
      "Epoch 89/150\n",
      "52/52 [==============================] - 0s 3ms/step - loss: 0.5291 - accuracy: 0.7160\n",
      "Epoch 90/150\n",
      "52/52 [==============================] - 0s 3ms/step - loss: 0.5435 - accuracy: 0.7121\n",
      "Epoch 91/150\n",
      "52/52 [==============================] - 0s 3ms/step - loss: 0.5313 - accuracy: 0.7082\n",
      "Epoch 92/150\n",
      "52/52 [==============================] - 0s 3ms/step - loss: 0.5162 - accuracy: 0.7315\n",
      "Epoch 93/150\n",
      "52/52 [==============================] - 0s 4ms/step - loss: 0.5165 - accuracy: 0.7276\n",
      "Epoch 94/150\n",
      "52/52 [==============================] - 0s 3ms/step - loss: 0.5304 - accuracy: 0.7043\n",
      "Epoch 95/150\n",
      "52/52 [==============================] - 0s 3ms/step - loss: 0.5295 - accuracy: 0.7082\n",
      "Epoch 96/150\n",
      "52/52 [==============================] - 0s 3ms/step - loss: 0.5175 - accuracy: 0.7160\n",
      "Epoch 97/150\n",
      "52/52 [==============================] - 0s 3ms/step - loss: 0.5297 - accuracy: 0.7315\n",
      "Epoch 98/150\n",
      "52/52 [==============================] - 0s 4ms/step - loss: 0.5296 - accuracy: 0.7043\n",
      "Epoch 99/150\n",
      "52/52 [==============================] - 0s 4ms/step - loss: 0.5241 - accuracy: 0.7160\n",
      "Epoch 100/150\n",
      "52/52 [==============================] - 0s 4ms/step - loss: 0.5333 - accuracy: 0.7276\n",
      "Epoch 101/150\n",
      "52/52 [==============================] - 0s 3ms/step - loss: 0.5254 - accuracy: 0.7471\n",
      "Epoch 102/150\n",
      "52/52 [==============================] - 0s 4ms/step - loss: 0.5217 - accuracy: 0.7160\n",
      "Epoch 103/150\n",
      "52/52 [==============================] - 0s 3ms/step - loss: 0.5223 - accuracy: 0.7198\n",
      "Epoch 104/150\n",
      "52/52 [==============================] - 0s 3ms/step - loss: 0.5367 - accuracy: 0.7160\n",
      "Epoch 105/150\n",
      "52/52 [==============================] - 0s 3ms/step - loss: 0.5191 - accuracy: 0.7198\n",
      "Epoch 106/150\n",
      "52/52 [==============================] - 0s 4ms/step - loss: 0.5320 - accuracy: 0.7082\n",
      "Epoch 107/150\n",
      "52/52 [==============================] - 0s 3ms/step - loss: 0.5484 - accuracy: 0.7043\n",
      "Epoch 108/150\n",
      "52/52 [==============================] - 0s 3ms/step - loss: 0.5216 - accuracy: 0.7082\n",
      "Epoch 109/150\n",
      "52/52 [==============================] - 0s 3ms/step - loss: 0.5268 - accuracy: 0.7276\n",
      "Epoch 110/150\n",
      "52/52 [==============================] - 0s 3ms/step - loss: 0.5190 - accuracy: 0.7160\n",
      "Epoch 111/150\n",
      "52/52 [==============================] - 0s 3ms/step - loss: 0.5243 - accuracy: 0.7198\n",
      "Epoch 112/150\n",
      "52/52 [==============================] - 0s 4ms/step - loss: 0.5243 - accuracy: 0.7121\n",
      "Epoch 113/150\n",
      "52/52 [==============================] - 0s 3ms/step - loss: 0.5263 - accuracy: 0.7198\n",
      "Epoch 114/150\n",
      "52/52 [==============================] - 0s 3ms/step - loss: 0.5196 - accuracy: 0.7315\n",
      "Epoch 115/150\n",
      "52/52 [==============================] - 0s 3ms/step - loss: 0.5174 - accuracy: 0.7198\n",
      "Epoch 116/150\n",
      "52/52 [==============================] - 0s 3ms/step - loss: 0.5272 - accuracy: 0.7082\n",
      "Epoch 117/150\n",
      "52/52 [==============================] - 0s 3ms/step - loss: 0.5227 - accuracy: 0.7315\n",
      "Epoch 118/150\n",
      "52/52 [==============================] - 0s 3ms/step - loss: 0.5191 - accuracy: 0.7198\n",
      "Epoch 119/150\n",
      "52/52 [==============================] - 0s 4ms/step - loss: 0.5174 - accuracy: 0.7082\n",
      "Epoch 120/150\n",
      "52/52 [==============================] - 0s 3ms/step - loss: 0.5235 - accuracy: 0.7198\n",
      "Epoch 121/150\n",
      "52/52 [==============================] - 0s 3ms/step - loss: 0.5331 - accuracy: 0.7315\n",
      "Epoch 122/150\n",
      "52/52 [==============================] - 0s 3ms/step - loss: 0.5215 - accuracy: 0.7198\n",
      "Epoch 123/150\n",
      "52/52 [==============================] - 0s 3ms/step - loss: 0.5115 - accuracy: 0.7237\n",
      "Epoch 124/150\n",
      "52/52 [==============================] - 0s 3ms/step - loss: 0.5164 - accuracy: 0.7315\n",
      "Epoch 125/150\n",
      "52/52 [==============================] - 0s 3ms/step - loss: 0.5185 - accuracy: 0.7237\n",
      "Epoch 126/150\n",
      "52/52 [==============================] - 0s 4ms/step - loss: 0.5263 - accuracy: 0.7160\n",
      "Epoch 127/150\n",
      "52/52 [==============================] - 0s 3ms/step - loss: 0.5278 - accuracy: 0.7160\n",
      "Epoch 128/150\n",
      "52/52 [==============================] - 0s 3ms/step - loss: 0.5169 - accuracy: 0.7082\n",
      "Epoch 129/150\n",
      "52/52 [==============================] - 0s 3ms/step - loss: 0.5210 - accuracy: 0.7276\n",
      "Epoch 130/150\n",
      "52/52 [==============================] - 0s 3ms/step - loss: 0.5172 - accuracy: 0.7237\n",
      "Epoch 131/150\n",
      "52/52 [==============================] - 0s 3ms/step - loss: 0.5168 - accuracy: 0.7354\n",
      "Epoch 132/150\n",
      "52/52 [==============================] - 0s 3ms/step - loss: 0.5168 - accuracy: 0.7198\n",
      "Epoch 133/150\n",
      "52/52 [==============================] - 0s 4ms/step - loss: 0.5224 - accuracy: 0.7276\n",
      "Epoch 134/150\n",
      "52/52 [==============================] - 0s 3ms/step - loss: 0.5245 - accuracy: 0.7315\n",
      "Epoch 135/150\n",
      "52/52 [==============================] - 0s 3ms/step - loss: 0.5163 - accuracy: 0.7237\n",
      "Epoch 136/150\n",
      "52/52 [==============================] - 0s 3ms/step - loss: 0.5143 - accuracy: 0.7160\n",
      "Epoch 137/150\n",
      "52/52 [==============================] - 0s 3ms/step - loss: 0.5221 - accuracy: 0.7237\n",
      "Epoch 138/150\n",
      "52/52 [==============================] - 0s 3ms/step - loss: 0.5218 - accuracy: 0.7393\n",
      "Epoch 139/150\n",
      "52/52 [==============================] - 0s 5ms/step - loss: 0.5165 - accuracy: 0.7160\n",
      "Epoch 140/150\n",
      "52/52 [==============================] - 0s 4ms/step - loss: 0.5147 - accuracy: 0.7471\n",
      "Epoch 141/150\n",
      "52/52 [==============================] - 0s 3ms/step - loss: 0.5235 - accuracy: 0.7198\n",
      "Epoch 142/150\n",
      "52/52 [==============================] - 0s 3ms/step - loss: 0.5251 - accuracy: 0.7276\n",
      "Epoch 143/150\n",
      "52/52 [==============================] - 0s 3ms/step - loss: 0.5145 - accuracy: 0.7160\n",
      "Epoch 144/150\n",
      "52/52 [==============================] - 0s 3ms/step - loss: 0.5312 - accuracy: 0.7082\n",
      "Epoch 145/150\n",
      "52/52 [==============================] - 0s 3ms/step - loss: 0.5234 - accuracy: 0.7121\n",
      "Epoch 146/150\n",
      "52/52 [==============================] - 0s 4ms/step - loss: 0.5199 - accuracy: 0.7121\n",
      "Epoch 147/150\n",
      "52/52 [==============================] - 0s 4ms/step - loss: 0.5197 - accuracy: 0.7198\n",
      "Epoch 148/150\n",
      "52/52 [==============================] - 0s 3ms/step - loss: 0.5194 - accuracy: 0.7004\n",
      "Epoch 149/150\n",
      "52/52 [==============================] - 0s 3ms/step - loss: 0.5239 - accuracy: 0.7393\n",
      "Epoch 150/150\n",
      "52/52 [==============================] - 0s 3ms/step - loss: 0.5160 - accuracy: 0.7198\n",
      "9/9 [==============================] - 0s 3ms/step - loss: 0.5062 - accuracy: 0.7393\n",
      "9/9 [==============================] - 0s 3ms/step\n"
     ]
    }
   ],
   "source": [
    "\n",
    "model.compile(\n",
    "    loss=tf.keras.losses.BinaryCrossentropy(),\n",
    "    optimizer=tf.keras.optimizers.Adam(0.001),\n",
    "    metrics=['accuracy']\n",
    ")\n",
    "history_train = model.fit(\n",
    "    X_train,y_train,\n",
    "    epochs=150,\n",
    "    batch_size=5\n",
    "    \n",
    ")\n",
    "accuracy = model.evaluate(X_train, y_train)\n",
    "prediction_train = model.predict(X_train)"
   ]
  },
  {
   "cell_type": "code",
   "execution_count": 42,
   "id": "01894737",
   "metadata": {},
   "outputs": [
    {
     "name": "stdout",
     "output_type": "stream",
     "text": [
      "9/9 [==============================] - 0s 2ms/step - loss: 0.5062 - accuracy: 0.7393\n",
      "9/9 [==============================] - 0s 2ms/step\n"
     ]
    }
   ],
   "source": [
    "accuracy = model.evaluate(X_train, y_train)\n",
    "prediction_train = model.predict(X_train)"
   ]
  },
  {
   "cell_type": "code",
   "execution_count": 43,
   "id": "25a62708",
   "metadata": {},
   "outputs": [],
   "source": [
    "Train_Acc=max(accuracy)"
   ]
  },
  {
   "cell_type": "markdown",
   "id": "3ec6c026",
   "metadata": {},
   "source": [
    "## TESTING SET ACCURACY AND PREDICTION"
   ]
  },
  {
   "cell_type": "code",
   "execution_count": 44,
   "id": "266886df",
   "metadata": {},
   "outputs": [
    {
     "name": "stdout",
     "output_type": "stream",
     "text": [
      "2/2 [==============================] - 0s 3ms/step - loss: 0.5468 - accuracy: 0.7308\n",
      "2/2 [==============================] - 0s 5ms/step\n"
     ]
    }
   ],
   "source": [
    "accuracy = model.evaluate(X_test, y_test)\n",
    "prediction_test = model.predict(X_test)"
   ]
  },
  {
   "cell_type": "code",
   "execution_count": 45,
   "id": "88b259ff",
   "metadata": {},
   "outputs": [],
   "source": [
    "Test_Acc = max(accuracy)"
   ]
  },
  {
   "cell_type": "markdown",
   "id": "8bd9c720",
   "metadata": {},
   "source": [
    "## CROSS VAL VS TRAINING SET GRAPH"
   ]
  },
  {
   "cell_type": "code",
   "execution_count": 46,
   "id": "0797e363",
   "metadata": {},
   "outputs": [
    {
     "data": {
      "image/png": "[encoded data removed]",
      "text/plain": [
       "<Figure size 640x480 with 1 Axes>"
      ]
     },
     "metadata": {},
     "output_type": "display_data"
    }
   ],
   "source": [
    "loss_train = history_train.history['loss']\n",
    "loss_val = history2.history['loss']\n",
    "epochs = range(1,151)\n",
    "plt.plot(epochs, loss_train, 'g', label='Training loss')\n",
    "plt.plot(epochs, loss_val, 'b', label='validation loss')\n",
    "plt.title('Training and Validation loss')\n",
    "plt.xlabel('Epochs')\n",
    "plt.ylabel('Loss')\n",
    "plt.legend()\n",
    "plt.show()"
   ]
  },
  {
   "cell_type": "code",
   "execution_count": 47,
   "id": "c62cfec2",
   "metadata": {},
   "outputs": [
    {
     "data": {
      "image/png": "[encoded data removed]",
      "text/plain": [
       "<Figure size 640x480 with 1 Axes>"
      ]
     },
     "metadata": {},
     "output_type": "display_data"
    }
   ],
   "source": [
    "loss_train = history_train.history['accuracy']\n",
    "loss_val = history2.history['accuracy']\n",
    "epochs = range(1,151)\n",
    "plt.plot(epochs, loss_train, 'g', label='Training accuracy')\n",
    "plt.plot(epochs, loss_val, 'b', label='validation accuracy')\n",
    "plt.title('Training and Validation accuracy')\n",
    "plt.xlabel('Epochs')\n",
    "plt.ylabel('Accuracy')\n",
    "plt.legend()\n",
    "plt.show()"
   ]
  },
  {
   "cell_type": "code",
   "execution_count": 48,
   "id": "7270e94d",
   "metadata": {},
   "outputs": [
    {
     "data": {
      "image/png": "[encoded data removed]",
      "text/plain": [
       "<Figure size 640x480 with 1 Axes>"
      ]
     },
     "metadata": {},
     "output_type": "display_data"
    }
   ],
   "source": [
    "loss_train = history_train.history['accuracy']\n",
    "\n",
    "epochs = range(1,151)\n",
    "plt.plot(epochs, loss_train, 'g', label='Training accuracy')\n",
    "\n",
    "plt.title('Training  accuracy')\n",
    "plt.xlabel('Epochs')\n",
    "plt.ylabel('Accuracy')\n",
    "plt.legend()\n",
    "plt.show()"
   ]
  },
  {
   "cell_type": "code",
   "execution_count": 49,
   "id": "838f9823",
   "metadata": {},
   "outputs": [
    {
     "data": {
      "image/png": "[encoded data removed]",
      "text/plain": [
       "<Figure size 640x480 with 1 Axes>"
      ]
     },
     "metadata": {},
     "output_type": "display_data"
    }
   ],
   "source": [
    "\n",
    "loss_val = history2.history['accuracy']\n",
    "epochs = range(1,151)\n",
    "\n",
    "plt.plot(epochs, loss_val, 'b', label='validation accuracy')\n",
    "plt.title(' Validation accuracy')\n",
    "plt.xlabel('Epochs')\n",
    "plt.ylabel('Accuracy')\n",
    "plt.legend()\n",
    "plt.show()"
   ]
  },
  {
   "cell_type": "markdown",
   "id": "3815ba73",
   "metadata": {},
   "source": [
    "## Categroization error of dataset"
   ]
  },
  {
   "cell_type": "code",
   "execution_count": 50,
   "id": "c228677a",
   "metadata": {},
   "outputs": [],
   "source": [
    "y_hat = np.array(prob_list)\n",
    "b = y_hat.ravel()"
   ]
  },
  {
   "cell_type": "code",
   "execution_count": 51,
   "id": "e62ba81f",
   "metadata": {},
   "outputs": [
    {
     "data": {
      "text/plain": [
       "array([0.28199825, 0.28412914, 0.01702657, 0.528684  , 0.03206981,\n",
       "       0.00813281, 0.0711793 , 0.1711617 , 0.18814668, 0.13614912,\n",
       "       0.21322219, 0.77971274, 0.43679604, 0.37678334, 0.29962394,\n",
       "       0.20334712, 0.15738519, 0.07405178, 0.1264469 , 0.29849914,\n",
       "       0.15227756, 0.02693902, 0.13099073, 0.16906944, 0.05453425,\n",
       "       0.10755232, 0.9971484 , 0.39883962, 0.42029026, 0.11073517,\n",
       "       0.82179654, 0.3794523 , 0.5028065 , 0.36138746, 0.024328  ,\n",
       "       0.20938471, 0.7490328 , 0.1019889 , 0.82566637, 0.15529379,\n",
       "       0.8278377 , 0.7473432 , 0.79278475, 0.06002166, 0.0903426 ,\n",
       "       0.01837817, 0.00459896, 0.00840445, 0.00648369, 0.00997133,\n",
       "       0.01107436, 0.5990462 , 0.6983161 , 0.8783533 , 0.7911851 ,\n",
       "       0.61437047, 0.9063625 , 0.8730439 , 0.61182684, 0.81631726,\n",
       "       0.7523349 , 0.7534989 , 0.8284859 , 0.6881342 , 0.5379795 ,\n",
       "       0.86097825, 0.57386065, 0.53417903, 0.57386065, 0.21285366,\n",
       "       0.06212064, 0.11333204, 0.03314515, 0.7854155 , 0.5408045 ,\n",
       "       0.5408045 , 0.19403245, 0.4207187 , 0.34455886, 0.07656953,\n",
       "       0.15676747, 0.37559316, 0.57386065, 0.45386273, 0.07163545,\n",
       "       0.00440608, 0.02325164, 0.03727   , 0.13927548, 0.6146475 ,\n",
       "       0.51905143, 0.8057039 , 0.4849005 , 0.6782423 , 0.63704765,\n",
       "       0.42071894, 0.04320087, 0.01321098, 0.57666904, 0.83810484,\n",
       "       0.83810484, 0.81631726, 0.81631726, 0.7523349 , 0.60702604,\n",
       "       0.6605668 , 0.50973815, 0.5036836 , 0.34017956, 0.33458957,\n",
       "       0.47342435, 0.92029065, 0.92029065, 0.934966  , 0.5408045 ,\n",
       "       0.87871516, 0.87871516, 0.85026926, 0.72884196, 0.72884196,\n",
       "       0.21374264, 0.11497642, 0.31352934, 0.7570811 , 0.51905143,\n",
       "       0.51905143, 0.4808931 , 0.3530533 , 0.25125772, 0.871425  ,\n",
       "       0.42488313, 0.8523216 , 0.8309305 , 0.7676707 , 0.80714214,\n",
       "       0.1840864 , 0.33683544, 0.60982585, 0.42488313, 0.8703987 ,\n",
       "       0.7607016 , 0.34697968, 0.18536638, 0.4589131 , 0.50754243,\n",
       "       0.07949152, 0.02439273, 0.10480124, 0.20994383, 0.10457429,\n",
       "       0.18805456, 0.27665702, 0.84524614, 0.90342546, 0.48776478,\n",
       "       0.345481  , 0.22590062, 0.30732954, 0.7605404 , 0.5076416 ,\n",
       "       0.4174163 , 0.22096393, 0.6196343 , 0.7091454 , 0.18406735,\n",
       "       0.30524325, 0.35522246, 0.70567775, 0.6989692 , 0.5820874 ,\n",
       "       0.23884372, 0.8606236 , 0.4300258 , 0.34479064, 0.48552057,\n",
       "       0.00159394, 0.2944984 , 0.78631794, 0.05214372, 0.74461937,\n",
       "       0.41214395, 0.8865005 , 0.7639151 , 0.8250876 , 0.08578646,\n",
       "       0.23964703, 0.14990467, 0.57672787, 0.09354558, 0.04140037,\n",
       "       0.24625333, 0.40724924, 0.7377545 , 0.48825142, 0.92435753,\n",
       "       0.9168957 , 0.4899356 , 0.8944515 , 0.84796566, 0.46262205,\n",
       "       0.75864977, 0.5848125 , 0.61977834, 0.6987938 , 0.32535675,\n",
       "       0.25017416, 0.8339699 , 0.57386065, 0.53417903, 0.57386065,\n",
       "       0.21285366, 0.06212064, 0.11333204, 0.03314515, 0.7854155 ,\n",
       "       0.5408045 , 0.5408045 , 0.19403245, 0.4207187 , 0.34455886,\n",
       "       0.07656953, 0.15676747, 0.37559313, 0.5738605 , 0.45386273,\n",
       "       0.07163545, 0.00440608, 0.02325164, 0.03727   , 0.13927548,\n",
       "       0.6146475 , 0.51905143, 0.8057039 , 0.4849005 , 0.6782423 ,\n",
       "       0.6370475 , 0.4207187 , 0.04320087, 0.01321098, 0.57666904,\n",
       "       0.7863592 , 0.74907905, 0.62455225, 0.5741464 , 0.33142492,\n",
       "       0.61342233, 0.6263061 , 0.48322797, 0.21474524, 0.11002782,\n",
       "       0.04948307, 0.15523212, 0.86546487, 0.91871184, 0.934966  ,\n",
       "       0.54080456, 0.87871516, 0.87871516, 0.85026926, 0.72884196,\n",
       "       0.72884196, 0.21374264, 0.11497642, 0.31352934, 0.7570811 ,\n",
       "       0.51905143, 0.6146475 , 0.4103518 , 0.35305318, 0.4103518 ,\n",
       "       0.871425  , 0.60982585, 0.80714214, 0.7676707 , 0.69449633,\n",
       "       0.8309305 , 0.2031063 , 0.25882217, 0.42488313, 0.51797014,\n",
       "       0.8847553 , 0.845633  , 0.20540264, 0.1193903 , 0.7293024 ,\n",
       "       0.5664758 , 0.11211964, 0.10198894, 0.05468986, 0.721368  ,\n",
       "       0.40011987, 0.2880969 , 0.5843546 , 0.33330253, 0.2562675 ,\n",
       "       0.09910864, 0.43855554, 0.14147754, 0.9259927 , 0.8220808 ,\n",
       "       0.5102094 , 0.92275655, 0.23428905, 0.06512527, 0.49910447,\n",
       "       0.84796566, 0.5820874 , 0.46716166, 0.8727154 , 0.24413152,\n",
       "       0.06285553, 0.15523212, 0.40011987, 0.23926035, 0.8280893 ,\n",
       "       0.26753518, 0.21887696, 0.78227437, 0.16979331, 0.8024667 ,\n",
       "       0.5102094 , 0.36608768, 0.6671908 , 0.21476673, 0.2323242 ,\n",
       "       0.44301394, 0.36293593, 0.2862628 , 0.1792655 , 0.37372234,\n",
       "       0.86591595, 0.5224849 , 0.09424384, 0.5502355 , 0.11777539,\n",
       "       0.06736068, 0.11179494, 0.42962083, 0.6370475 , 0.526073  ,\n",
       "       0.33480608, 0.15877895, 0.83108455, 0.49031606, 0.18498273,\n",
       "       0.47702175, 0.09810723, 0.07216386, 0.6217174 , 0.09974519,\n",
       "       0.7389711 , 0.34754428, 0.05043003, 0.18194996, 0.2677918 ,\n",
       "       0.03712366, 0.40912864, 0.27740705, 0.0995689 , 0.1218208 ,\n",
       "       0.49910447, 0.58045584, 0.11777539, 0.38512883, 0.284424  ,\n",
       "       0.44751507, 0.05416671, 0.09739459, 0.30409226, 0.37367323,\n",
       "       0.48636985, 0.52369374, 0.05865648, 0.09200958, 0.01160219,\n",
       "       0.73056346, 0.35838738, 0.50744015, 0.16906944, 0.16568072,\n",
       "       0.6941291 , 0.44247296, 0.8436725 , 0.3243516 , 0.9068353 ,\n",
       "       0.8674989 , 0.18693615, 0.91090006, 0.8099151 , 0.36970103,\n",
       "       0.80945903, 0.30495438, 0.14630656, 0.89129066, 0.17830728,\n",
       "       0.8694481 , 0.01271673, 0.86546487, 0.33516923, 0.65330577,\n",
       "       0.30949965, 0.65990776, 0.8783533 , 0.60441285, 0.21201801,\n",
       "       0.0021798 , 0.55770636, 0.6983909 , 0.29823777, 0.24795084,\n",
       "       0.16440468, 0.14964369, 0.21134177, 0.33524373, 0.21193649,\n",
       "       0.2778483 , 0.15019542, 0.58309823, 0.22871633, 0.12095599,\n",
       "       0.5357625 , 0.40611628, 0.688322  , 0.38248986, 0.2631542 ,\n",
       "       0.9234578 , 0.6983909 , 0.47493386, 0.9222428 , 0.451433  ,\n",
       "       0.5904031 , 0.49142408, 0.9093278 , 0.74511325, 0.8372529 ,\n",
       "       0.08262942, 0.7711033 , 0.05992024, 0.9373194 , 0.07907745,\n",
       "       0.07729191, 0.5980965 , 0.84993637, 0.61344326, 0.21606286,\n",
       "       0.6976424 , 0.17766415, 0.50000477, 0.09050675, 0.92465526,\n",
       "       0.08598929, 0.09546822, 0.9078008 , 0.7623924 , 0.6940501 ,\n",
       "       0.9237588 , 0.3863584 , 0.3341378 , 0.69526535, 0.05976846,\n",
       "       0.30728906, 0.10146513, 0.593274  , 0.09301658, 0.7252737 ,\n",
       "       0.84728384, 0.07245308, 0.89289206, 0.7927443 , 0.12864251,\n",
       "       0.20938471, 0.9251201 , 0.7237036 , 0.13257645, 0.4559894 ,\n",
       "       0.5724613 , 0.84796566, 0.15669392, 0.60381395, 0.54836303,\n",
       "       0.27763224, 0.05756307, 0.60653776, 0.90815717, 0.821424  ,\n",
       "       0.84239364, 0.8188902 , 0.61437047, 0.7376126 , 0.4964469 ,\n",
       "       0.5010225 , 0.38704672, 0.6392141 , 0.75373423, 0.7605668 ,\n",
       "       0.6037928 , 0.5706909 , 0.54671067, 0.6208356 , 0.55541104,\n",
       "       0.26753518, 0.1183956 , 0.8634659 , 0.5980991 , 0.03004733,\n",
       "       0.75686884, 0.84760123, 0.32794175, 0.57604975, 0.6126132 ,\n",
       "       0.28228834, 0.4940601 , 0.66419286, 0.38235536, 0.5197434 ],\n",
       "      dtype=float32)"
      ]
     },
     "execution_count": 51,
     "metadata": {},
     "output_type": "execute_result"
    }
   ],
   "source": [
    "b  # PROBABILITY OF PARTICIPATION yhat=b\n"
   ]
  },
  {
   "cell_type": "code",
   "execution_count": 52,
   "id": "0af389e1",
   "metadata": {},
   "outputs": [
    {
     "name": "stdout",
     "output_type": "stream",
     "text": [
      "[0, 0, 0, 1, 0, 0, 0, 0, 0, 0, 0, 1, 0, 0, 0, 0, 0, 0, 0, 0, 0, 0, 0, 0, 0, 0, 1, 0, 0, 0, 1, 0, 1, 0, 0, 0, 1, 0, 1, 0, 1, 1, 1, 0, 0, 0, 0, 0, 0, 0, 0, 1, 1, 1, 1, 1, 1, 1, 1, 1, 1, 1, 1, 1, 1, 1, 1, 1, 1, 0, 0, 0, 0, 1, 1, 1, 0, 0, 0, 0, 0, 0, 1, 0, 0, 0, 0, 0, 0, 1, 1, 1, 0, 1, 1, 0, 0, 0, 1, 1, 1, 1, 1, 1, 1, 1, 1, 1, 0, 0, 0, 1, 1, 1, 1, 1, 1, 1, 1, 1, 0, 0, 0, 1, 1, 1, 0, 0, 0, 1, 0, 1, 1, 1, 1, 0, 0, 1, 0, 1, 1, 0, 0, 0, 1, 0, 0, 0, 0, 0, 0, 0, 1, 1, 0, 0, 0, 0, 1, 1, 0, 0, 1, 1, 0, 0, 0, 1, 1, 1, 0, 1, 0, 0, 0, 0, 0, 1, 0, 1, 0, 1, 1, 1, 0, 0, 0, 1, 0, 0, 0, 0, 1, 0, 1, 1, 0, 1, 1, 0, 1, 1, 1, 1, 0, 0, 1, 1, 1, 1, 0, 0, 0, 0, 1, 1, 1, 0, 0, 0, 0, 0, 0, 1, 0, 0, 0, 0, 0, 0, 1, 1, 1, 0, 1, 1, 0, 0, 0, 1, 1, 1, 1, 1, 0, 1, 1, 0, 0, 0, 0, 0, 1, 1, 1, 1, 1, 1, 1, 1, 1, 0, 0, 0, 1, 1, 1, 0, 0, 0, 1, 1, 1, 1, 1, 1, 0, 0, 0, 1, 1, 1, 0, 0, 1, 1, 0, 0, 0, 1, 0, 0, 1, 0, 0, 0, 0, 0, 1, 1, 1, 1, 0, 0, 0, 1, 1, 0, 1, 0, 0, 0, 0, 0, 1, 0, 0, 1, 0, 1, 1, 0, 1, 0, 0, 0, 0, 0, 0, 0, 1, 1, 0, 1, 0, 0, 0, 0, 1, 1, 0, 0, 1, 0, 0, 0, 0, 0, 1, 0, 1, 0, 0, 0, 0, 0, 0, 0, 0, 0, 0, 1, 0, 0, 0, 0, 0, 0, 0, 0, 0, 1, 0, 0, 0, 1, 0, 1, 0, 0, 1, 0, 1, 0, 1, 1, 0, 1, 1, 0, 1, 0, 0, 1, 0, 1, 0, 1, 0, 1, 0, 1, 1, 1, 0, 0, 1, 1, 0, 0, 0, 0, 0, 0, 0, 0, 0, 1, 0, 0, 1, 0, 1, 0, 0, 1, 1, 0, 1, 0, 1, 0, 1, 1, 1, 0, 1, 0, 1, 0, 0, 1, 1, 1, 0, 1, 0, 1, 0, 1, 0, 0, 1, 1, 1, 1, 0, 0, 1, 0, 0, 0, 1, 0, 1, 1, 0, 1, 1, 0, 0, 1, 1, 0, 0, 1, 1, 0, 1, 1, 0, 0, 1, 1, 1, 1, 1, 1, 1, 0, 1, 0, 1, 1, 1, 1, 1, 1, 1, 1, 0, 0, 1, 1, 0, 1, 1, 0, 1, 1, 0, 0, 1, 0, 1]\n"
     ]
    }
   ],
   "source": [
    "b_encoded =[]\n",
    "for i in b:\n",
    "    if i>0.50:\n",
    "        \n",
    "        b_encoded.append(1)\n",
    "    else:\n",
    "        i==0\n",
    "        b_encoded.append(0)\n",
    "print(b_encoded)"
   ]
  },
  {
   "cell_type": "code",
   "execution_count": 53,
   "id": "fc331605",
   "metadata": {},
   "outputs": [
    {
     "data": {
      "text/plain": [
       "array([0, 0, 0, 1, 0, 0, 0, 0, 0, 0, 0, 1, 0, 0, 0, 0, 0, 0, 0, 0, 0, 0,\n",
       "       0, 0, 0, 0, 1, 0, 0, 0, 1, 0, 1, 0, 0, 0, 1, 0, 1, 0, 1, 1, 1, 0,\n",
       "       0, 0, 0, 0, 0, 0, 0, 1, 1, 1, 1, 1, 1, 1, 1, 1, 1, 1, 1, 1, 1, 1,\n",
       "       1, 1, 1, 0, 0, 0, 0, 1, 1, 1, 0, 0, 0, 0, 0, 0, 1, 0, 0, 0, 0, 0,\n",
       "       0, 1, 1, 1, 0, 1, 1, 0, 0, 0, 1, 1, 1, 1, 1, 1, 1, 1, 1, 1, 0, 0,\n",
       "       0, 1, 1, 1, 1, 1, 1, 1, 1, 1, 0, 0, 0, 1, 1, 1, 0, 0, 0, 1, 0, 1,\n",
       "       1, 1, 1, 0, 0, 1, 0, 1, 1, 0, 0, 0, 1, 0, 0, 0, 0, 0, 0, 0, 1, 1,\n",
       "       0, 0, 0, 0, 1, 1, 0, 0, 1, 1, 0, 0, 0, 1, 1, 1, 0, 1, 0, 0, 0, 0,\n",
       "       0, 1, 0, 1, 0, 1, 1, 1, 0, 0, 0, 1, 0, 0, 0, 0, 1, 0, 1, 1, 0, 1,\n",
       "       1, 0, 1, 1, 1, 1, 0, 0, 1, 1, 1, 1, 0, 0, 0, 0, 1, 1, 1, 0, 0, 0,\n",
       "       0, 0, 0, 1, 0, 0, 0, 0, 0, 0, 1, 1, 1, 0, 1, 1, 0, 0, 0, 1, 1, 1,\n",
       "       1, 1, 0, 1, 1, 0, 0, 0, 0, 0, 1, 1, 1, 1, 1, 1, 1, 1, 1, 0, 0, 0,\n",
       "       1, 1, 1, 0, 0, 0, 1, 1, 1, 1, 1, 1, 0, 0, 0, 1, 1, 1, 0, 0, 1, 1,\n",
       "       0, 0, 0, 1, 0, 0, 1, 0, 0, 0, 0, 0, 1, 1, 1, 1, 0, 0, 0, 1, 1, 0,\n",
       "       1, 0, 0, 0, 0, 0, 1, 0, 0, 1, 0, 1, 1, 0, 1, 0, 0, 0, 0, 0, 0, 0,\n",
       "       1, 1, 0, 1, 0, 0, 0, 0, 1, 1, 0, 0, 1, 0, 0, 0, 0, 0, 1, 0, 1, 0,\n",
       "       0, 0, 0, 0, 0, 0, 0, 0, 0, 1, 0, 0, 0, 0, 0, 0, 0, 0, 0, 1, 0, 0,\n",
       "       0, 1, 0, 1, 0, 0, 1, 0, 1, 0, 1, 1, 0, 1, 1, 0, 1, 0, 0, 1, 0, 1,\n",
       "       0, 1, 0, 1, 0, 1, 1, 1, 0, 0, 1, 1, 0, 0, 0, 0, 0, 0, 0, 0, 0, 1,\n",
       "       0, 0, 1, 0, 1, 0, 0, 1, 1, 0, 1, 0, 1, 0, 1, 1, 1, 0, 1, 0, 1, 0,\n",
       "       0, 1, 1, 1, 0, 1, 0, 1, 0, 1, 0, 0, 1, 1, 1, 1, 0, 0, 1, 0, 0, 0,\n",
       "       1, 0, 1, 1, 0, 1, 1, 0, 0, 1, 1, 0, 0, 1, 1, 0, 1, 1, 0, 0, 1, 1,\n",
       "       1, 1, 1, 1, 1, 0, 1, 0, 1, 1, 1, 1, 1, 1, 1, 1, 0, 0, 1, 1, 0, 1,\n",
       "       1, 0, 1, 1, 0, 0, 1, 0, 1])"
      ]
     },
     "execution_count": 53,
     "metadata": {},
     "output_type": "execute_result"
    }
   ],
   "source": [
    "Predicted_arr = np.array(b_encoded)\n",
    "Predicted_arr"
   ]
  },
  {
   "cell_type": "code",
   "execution_count": 54,
   "id": "b58aace8",
   "metadata": {},
   "outputs": [],
   "source": [
    "\n",
    "# UNQ_C2\n",
    "# GRADED CELL: eval_cat_err\n",
    "def eval_cat_err(y, yhat):\n",
    "    \"\"\" \n",
    "    Calculate the categorization error\n",
    "    Args:\n",
    "      y    : (ndarray  Shape (m,) or (m,1))  target value of each example\n",
    "      yhat : (ndarray  Shape (m,) or (m,1))  predicted value of each example\n",
    "    Returns:|\n",
    "      cerr: (scalar)             \n",
    "    \"\"\"\n",
    "    m = len(y)\n",
    "    incorrect = 0\n",
    "    for i in range(m):\n",
    "        \n",
    "    ### START CODE HERE ### \n",
    "        if y[i] != yhat[i]:\n",
    "            incorrect=incorrect+1\n",
    "           \n",
    "    cerr = incorrect/m\n",
    "   \n",
    "    ### END CODE HERE ### \n",
    "    \n",
    "    return(cerr)"
   ]
  },
  {
   "cell_type": "code",
   "execution_count": 55,
   "id": "daef9dd4",
   "metadata": {},
   "outputs": [
    {
     "name": "stdout",
     "output_type": "stream",
     "text": [
      "categorization error 0.270\n"
     ]
    }
   ],
   "source": [
    "\n",
    "yhat=Predicted_arr\n",
    "y_tmp = df['Participation'].to_numpy()\n",
    "print(f\"categorization error {np.squeeze(eval_cat_err(yhat, y_tmp)):0.3f}\" )\n"
   ]
  },
  {
   "cell_type": "markdown",
   "id": "328165c7",
   "metadata": {},
   "source": [
    "### Correct and incorrect classification number"
   ]
  },
  {
   "cell_type": "code",
   "execution_count": 56,
   "id": "a319926a",
   "metadata": {},
   "outputs": [
    {
     "name": "stdout",
     "output_type": "stream",
     "text": [
      "Correct classification:  376\n",
      "Incorrect classification:  139\n"
     ]
    }
   ],
   "source": [
    "count_same =0\n",
    "count_diff=0\n",
    "\n",
    "n = len(y_tmp)\n",
    "s=len(Predicted_arr)\n",
    "\n",
    "for i in range(n):\n",
    "   \n",
    "        if y_tmp[i] == Predicted_arr[i]:\n",
    "            \n",
    "            count_same = count_same +1\n",
    "          \n",
    "        else:\n",
    "            count_diff = count_diff + 1 \n",
    "print(\"Correct classification: \",count_same)\n",
    "\n",
    "print(\"Incorrect classification: \",count_diff)"
   ]
  },
  {
   "cell_type": "code",
   "execution_count": 57,
   "id": "77f97756",
   "metadata": {},
   "outputs": [],
   "source": [
    "# y_tmp= df[Participation] in ARRAY form"
   ]
  },
  {
   "cell_type": "code",
   "execution_count": 58,
   "id": "4e5216f7",
   "metadata": {},
   "outputs": [],
   "source": [
    "# # Set the figure size in inches\n",
    "# plt.figure(figsize=(10,6))\n",
    "\n",
    "# plt.scatter(b, y_tmp, label = \"Predicted prediction\" )\n",
    "\n",
    "# # Set x and y axes labels\n",
    "# plt.xlabel('Predicted Probability of participation ')\n",
    "# plt.ylabel('Priginal Probability of participation')\n",
    "\n",
    "# plt.title('Original vs Predicted Prob of Participation')\n",
    "# plt.legend()\n",
    "# plt.show()"
   ]
  },
  {
   "cell_type": "markdown",
   "id": "4640b0aa",
   "metadata": {},
   "source": [
    "### MEAN SQUARE OF DATASET"
   ]
  },
  {
   "cell_type": "code",
   "execution_count": 59,
   "id": "2331bcad",
   "metadata": {},
   "outputs": [
    {
     "data": {
      "text/plain": [
       "0.26990291262135924"
      ]
     },
     "execution_count": 59,
     "metadata": {},
     "output_type": "execute_result"
    }
   ],
   "source": [
    "mean_squared_error(y_tmp, Predicted_arr)"
   ]
  },
  {
   "cell_type": "markdown",
   "id": "e07ba183",
   "metadata": {},
   "source": [
    "\n",
    "### Confusion matrix of DATASET"
   ]
  },
  {
   "cell_type": "code",
   "execution_count": 60,
   "id": "6957ca5e",
   "metadata": {},
   "outputs": [
    {
     "name": "stdout",
     "output_type": "stream",
     "text": [
      "206 66 73 170\n"
     ]
    }
   ],
   "source": [
    "from sklearn.metrics import confusion_matrix\n",
    "\n",
    "y_true = y_tmp\n",
    "y_pred = Predicted_arr\n",
    "\n",
    "tn, fp, fn, tp = confusion_matrix(y_true, y_pred, labels=[0, 1]).ravel()\n",
    "print(tn, fp, fn, tp)  # 1 1 1 1"
   ]
  },
  {
   "cell_type": "markdown",
   "id": "9704895b",
   "metadata": {},
   "source": [
    "### Precision score of DATASET"
   ]
  },
  {
   "cell_type": "code",
   "execution_count": 61,
   "id": "9172ffbe",
   "metadata": {},
   "outputs": [
    {
     "name": "stdout",
     "output_type": "stream",
     "text": [
      "0.7203389830508474\n"
     ]
    }
   ],
   "source": [
    "precission_score=tp/(tp+fp)\n",
    "\n",
    "print( precission_score)"
   ]
  },
  {
   "cell_type": "markdown",
   "id": "db411fee",
   "metadata": {},
   "source": [
    "### F1 score of DATASET"
   ]
  },
  {
   "cell_type": "code",
   "execution_count": 62,
   "id": "5bcfdf0f",
   "metadata": {},
   "outputs": [
    {
     "data": {
      "text/plain": [
       "0.7477313974591651"
      ]
     },
     "execution_count": 62,
     "metadata": {},
     "output_type": "execute_result"
    }
   ],
   "source": [
    "from sklearn.metrics import f1_score\n",
    "\n",
    "a=tn+fp\n",
    "b=fn+tp\n",
    "actual = np.repeat([1, 0], repeats=[a,b])\n",
    "\n",
    "#define array of predicted classes\n",
    "pred = np.repeat([1, 0, 1, 0], repeats=[tn,fp,fn,tp])   #38, 6, 23, 19\n",
    "\n",
    "#calculate F1 score\n",
    "f1_score(actual, pred)\n"
   ]
  },
  {
   "cell_type": "code",
   "execution_count": null,
   "id": "bc6db115",
   "metadata": {},
   "outputs": [],
   "source": []
  },
  {
   "cell_type": "markdown",
   "id": "25ddd2e5",
   "metadata": {},
   "source": [
    "## Categorization score of CV\n",
    "\n",
    "\n"
   ]
  },
  {
   "cell_type": "code",
   "execution_count": 63,
   "id": "721f3ac3",
   "metadata": {},
   "outputs": [
    {
     "data": {
      "text/plain": [
       "array([[8.58563721e-01],\n",
       "       [8.72280538e-01],\n",
       "       [4.59908634e-01],\n",
       "       [1.11205899e-03],\n",
       "       [8.90153170e-01],\n",
       "       [4.18214858e-01],\n",
       "       [7.19125986e-01],\n",
       "       [1.04600839e-01],\n",
       "       [5.51204979e-01],\n",
       "       [3.44744742e-01],\n",
       "       [8.81658018e-01],\n",
       "       [6.87785596e-02],\n",
       "       [5.51204979e-01],\n",
       "       [8.37984920e-01],\n",
       "       [5.71719967e-02],\n",
       "       [8.42943490e-01],\n",
       "       [4.50727135e-01],\n",
       "       [9.56700206e-01],\n",
       "       [2.29306549e-01],\n",
       "       [7.76530623e-01],\n",
       "       [7.77318954e-01],\n",
       "       [7.02165604e-01],\n",
       "       [1.22199059e-01],\n",
       "       [8.73700202e-01],\n",
       "       [1.15848526e-01],\n",
       "       [2.20247597e-01],\n",
       "       [4.52901453e-01],\n",
       "       [8.95696163e-01],\n",
       "       [9.06330884e-01],\n",
       "       [6.78679049e-01],\n",
       "       [1.04600839e-01],\n",
       "       [2.78123319e-01],\n",
       "       [9.31459665e-01],\n",
       "       [2.07851306e-01],\n",
       "       [6.58843398e-01],\n",
       "       [4.41688634e-02],\n",
       "       [3.00354987e-01],\n",
       "       [4.72491801e-01],\n",
       "       [3.44744742e-01],\n",
       "       [1.18071176e-01],\n",
       "       [5.28413475e-01],\n",
       "       [8.40659380e-01],\n",
       "       [8.71029675e-01],\n",
       "       [6.58843398e-01],\n",
       "       [3.72886688e-01],\n",
       "       [8.37222576e-01],\n",
       "       [9.04775932e-02],\n",
       "       [2.81827688e-01],\n",
       "       [3.30010206e-01],\n",
       "       [6.11962616e-01],\n",
       "       [5.25041401e-01],\n",
       "       [1.49542481e-01],\n",
       "       [8.15562129e-01],\n",
       "       [8.73700202e-01],\n",
       "       [9.25017595e-02],\n",
       "       [9.02879596e-01],\n",
       "       [8.72599840e-01],\n",
       "       [6.61618352e-01],\n",
       "       [3.58624548e-01],\n",
       "       [4.60847050e-01],\n",
       "       [9.69830602e-02],\n",
       "       [8.76840279e-02],\n",
       "       [1.34396106e-01],\n",
       "       [6.02684021e-01],\n",
       "       [2.63835210e-03],\n",
       "       [8.19228888e-01],\n",
       "       [3.89741093e-01],\n",
       "       [9.99591231e-01],\n",
       "       [9.18272197e-01],\n",
       "       [8.09880793e-01],\n",
       "       [7.70202160e-01],\n",
       "       [5.33972681e-01],\n",
       "       [6.69081688e-01],\n",
       "       [4.77507472e-01],\n",
       "       [2.74342924e-01],\n",
       "       [8.85073125e-01],\n",
       "       [7.22479582e-01],\n",
       "       [3.21535654e-02],\n",
       "       [1.99496791e-01],\n",
       "       [2.44424120e-02],\n",
       "       [7.06397891e-01],\n",
       "       [9.19992089e-01],\n",
       "       [8.84962380e-01],\n",
       "       [5.97939640e-02],\n",
       "       [8.59885097e-01],\n",
       "       [6.36598110e-01],\n",
       "       [3.10336798e-01],\n",
       "       [6.34348989e-01],\n",
       "       [8.66159201e-01],\n",
       "       [1.85916111e-01],\n",
       "       [2.10871607e-01],\n",
       "       [8.68890524e-01],\n",
       "       [2.14086562e-01],\n",
       "       [2.92790443e-01],\n",
       "       [5.77892959e-01],\n",
       "       [4.46390621e-02],\n",
       "       [1.74606785e-01],\n",
       "       [7.68612996e-02],\n",
       "       [8.74998197e-02],\n",
       "       [7.66646087e-01],\n",
       "       [5.80866218e-01],\n",
       "       [6.02684021e-01],\n",
       "       [1.05652802e-01],\n",
       "       [2.84262747e-01],\n",
       "       [5.46631098e-01],\n",
       "       [8.11847091e-01],\n",
       "       [2.44026124e-01],\n",
       "       [6.58461511e-01],\n",
       "       [3.70506018e-01],\n",
       "       [1.92634892e-02],\n",
       "       [8.86063755e-01],\n",
       "       [5.98391056e-01],\n",
       "       [9.43495750e-01],\n",
       "       [4.41245854e-01],\n",
       "       [2.88578957e-01],\n",
       "       [8.86063755e-01],\n",
       "       [8.97356510e-01],\n",
       "       [3.22039984e-02],\n",
       "       [5.54139078e-01],\n",
       "       [7.94604480e-01],\n",
       "       [8.50112081e-01],\n",
       "       [8.29875171e-01],\n",
       "       [7.58068025e-01],\n",
       "       [4.26146597e-01],\n",
       "       [2.67454386e-01],\n",
       "       [4.09872264e-01],\n",
       "       [1.88233122e-01],\n",
       "       [2.60810345e-01],\n",
       "       [8.14021587e-01],\n",
       "       [9.39797223e-01],\n",
       "       [5.97563446e-01],\n",
       "       [3.12278569e-01],\n",
       "       [4.61909533e-01],\n",
       "       [2.61045963e-01],\n",
       "       [2.82507867e-01],\n",
       "       [3.86876762e-01],\n",
       "       [7.30511129e-01],\n",
       "       [5.46631098e-01],\n",
       "       [5.89812756e-01],\n",
       "       [4.23431695e-01],\n",
       "       [3.13784331e-01],\n",
       "       [4.36776221e-01],\n",
       "       [1.93901345e-01],\n",
       "       [8.73700202e-01],\n",
       "       [8.95696163e-01],\n",
       "       [8.73325348e-01],\n",
       "       [1.55360838e-02],\n",
       "       [4.11575735e-02],\n",
       "       [7.31068626e-02],\n",
       "       [4.23157901e-01],\n",
       "       [3.39893579e-01],\n",
       "       [3.44744742e-01],\n",
       "       [5.23844361e-01],\n",
       "       [6.18892116e-03],\n",
       "       [7.81600237e-01],\n",
       "       [3.37532818e-01],\n",
       "       [8.98261726e-01],\n",
       "       [9.05126929e-01],\n",
       "       [3.05004185e-04],\n",
       "       [5.64181566e-01],\n",
       "       [2.53472656e-01],\n",
       "       [1.68174475e-01],\n",
       "       [8.87055993e-01],\n",
       "       [2.30717242e-01],\n",
       "       [7.16630280e-01],\n",
       "       [1.51278198e-01],\n",
       "       [5.67073464e-01],\n",
       "       [8.20074737e-01],\n",
       "       [4.89409193e-02],\n",
       "       [6.38771415e-01],\n",
       "       [2.62038689e-02],\n",
       "       [2.09993422e-01],\n",
       "       [6.32529259e-02],\n",
       "       [2.61206090e-01],\n",
       "       [8.64579380e-01],\n",
       "       [9.39797223e-01],\n",
       "       [6.75668418e-01],\n",
       "       [3.41503583e-02],\n",
       "       [8.20074737e-01],\n",
       "       [4.75524692e-04],\n",
       "       [8.87842834e-01],\n",
       "       [3.27988029e-01],\n",
       "       [2.62986571e-01],\n",
       "       [6.11962616e-01],\n",
       "       [2.10792899e-01],\n",
       "       [2.03868032e-01],\n",
       "       [6.02684021e-01],\n",
       "       [2.74335176e-01],\n",
       "       [6.02684021e-01],\n",
       "       [8.95849884e-01],\n",
       "       [6.09369390e-02],\n",
       "       [6.77375138e-01],\n",
       "       [3.14376175e-01],\n",
       "       [7.17449009e-01],\n",
       "       [1.23580731e-01],\n",
       "       [4.39017028e-01],\n",
       "       [1.06692046e-01],\n",
       "       [2.67485291e-01],\n",
       "       [4.64083999e-01],\n",
       "       [7.42666662e-01],\n",
       "       [8.45942080e-01],\n",
       "       [2.24760808e-02],\n",
       "       [5.90922177e-01],\n",
       "       [3.66818130e-01],\n",
       "       [8.97449374e-01],\n",
       "       [1.64423645e-01]], dtype=float32)"
      ]
     },
     "execution_count": 63,
     "metadata": {},
     "output_type": "execute_result"
    }
   ],
   "source": [
    "y_cv_arr = y_cv.to_numpy()\n",
    "prediction_cv"
   ]
  },
  {
   "cell_type": "code",
   "execution_count": 64,
   "id": "11ec2b78",
   "metadata": {},
   "outputs": [
    {
     "name": "stdout",
     "output_type": "stream",
     "text": [
      "[1, 1, 0, 0, 1, 0, 1, 0, 1, 0, 1, 0, 1, 1, 0, 1, 0, 1, 0, 1, 1, 1, 0, 1, 0, 0, 0, 1, 1, 1, 0, 0, 1, 0, 1, 0, 0, 0, 0, 0, 1, 1, 1, 1, 0, 1, 0, 0, 0, 1, 1, 0, 1, 1, 0, 1, 1, 1, 0, 0, 0, 0, 0, 1, 0, 1, 0, 1, 1, 1, 1, 1, 1, 0, 0, 1, 1, 0, 0, 0, 1, 1, 1, 0, 1, 1, 0, 1, 1, 0, 0, 1, 0, 0, 1, 0, 0, 0, 0, 1, 1, 1, 0, 0, 1, 1, 0, 1, 0, 0, 1, 1, 1, 0, 0, 1, 1, 0, 1, 1, 1, 1, 1, 0, 0, 0, 0, 0, 1, 1, 1, 0, 0, 0, 0, 0, 1, 1, 1, 0, 0, 0, 0, 1, 1, 1, 0, 0, 0, 0, 0, 0, 1, 0, 1, 0, 1, 1, 0, 1, 0, 0, 1, 0, 1, 0, 1, 1, 0, 1, 0, 0, 0, 0, 1, 1, 1, 0, 1, 0, 1, 0, 0, 1, 0, 0, 1, 0, 1, 1, 0, 1, 0, 1, 0, 0, 0, 0, 0, 1, 1, 0, 1, 0, 1, 0]\n"
     ]
    }
   ],
   "source": [
    "\n",
    "pred_cv_arr =[]\n",
    "for i in prediction_cv:\n",
    "    if i>0.5:\n",
    "        pred_cv_arr.append(1)\n",
    "    else:\n",
    "        i==0\n",
    "        pred_cv_arr.append(0)\n",
    "print(pred_cv_arr)"
   ]
  },
  {
   "cell_type": "code",
   "execution_count": 65,
   "id": "22455c54",
   "metadata": {},
   "outputs": [
    {
     "name": "stdout",
     "output_type": "stream",
     "text": [
      "categorization error 0.209\n"
     ]
    }
   ],
   "source": [
    "\n",
    "print(f\"categorization error {np.squeeze(eval_cat_err(y_cv_arr, pred_cv_arr)):0.3f}\" )"
   ]
  },
  {
   "cell_type": "markdown",
   "id": "3899bbaa",
   "metadata": {},
   "source": [
    "## CONFUSION MATRIX OF CV"
   ]
  },
  {
   "cell_type": "code",
   "execution_count": 66,
   "id": "c4ea6b28",
   "metadata": {},
   "outputs": [
    {
     "data": {
      "text/plain": [
       "206"
      ]
     },
     "execution_count": 66,
     "metadata": {},
     "output_type": "execute_result"
    }
   ],
   "source": [
    "len(pred_cv_arr)"
   ]
  },
  {
   "cell_type": "code",
   "execution_count": 67,
   "id": "57ae5f44",
   "metadata": {},
   "outputs": [
    {
     "name": "stdout",
     "output_type": "stream",
     "text": [
      "86 23 20 77\n"
     ]
    }
   ],
   "source": [
    "\n",
    "y_true = y_cv_arr\n",
    "y_pred = pred_cv_arr\n",
    "\n",
    "tn, fp, fn, tp = confusion_matrix(y_true, y_pred, labels=[0, 1]).ravel()\n",
    "print(tn, fp, fn, tp)  # 1 1 1 1"
   ]
  },
  {
   "cell_type": "markdown",
   "id": "877fcecb",
   "metadata": {},
   "source": [
    "### F1 SCORE OF CV"
   ]
  },
  {
   "cell_type": "code",
   "execution_count": 68,
   "id": "8fcf4e4b",
   "metadata": {},
   "outputs": [
    {
     "data": {
      "text/plain": [
       "0.7999999999999999"
      ]
     },
     "execution_count": 68,
     "metadata": {},
     "output_type": "execute_result"
    }
   ],
   "source": [
    "#define array of actual classes\n",
    "a=tn+fp\n",
    "b=fn+tp\n",
    "actual = np.repeat([1, 0], repeats=[a,b])\n",
    "\n",
    "#define array of predicted classes\n",
    "pred = np.repeat([1, 0, 1, 0], repeats=[tn,fp,fn,tp])   #38, 6, 23, 19\n",
    "\n",
    "#calculate F1 score\n",
    "f1_score(actual, pred)"
   ]
  },
  {
   "cell_type": "markdown",
   "id": "6cafe945",
   "metadata": {},
   "source": [
    "### Precission score of CV"
   ]
  },
  {
   "cell_type": "code",
   "execution_count": 69,
   "id": "5cfe022e",
   "metadata": {},
   "outputs": [
    {
     "name": "stdout",
     "output_type": "stream",
     "text": [
      "0.77\n"
     ]
    }
   ],
   "source": [
    "precission_score=tp/(tp+fp)\n",
    "\n",
    "print( precission_score)"
   ]
  },
  {
   "cell_type": "markdown",
   "id": "d42761c7",
   "metadata": {},
   "source": [
    "## CONFUSION MATRIX OF TESTING SET"
   ]
  },
  {
   "cell_type": "code",
   "execution_count": 70,
   "id": "3950fd13",
   "metadata": {},
   "outputs": [],
   "source": [
    "from sklearn.preprocessing import StandardScaler\n",
    "from sklearn.svm import SVC\n",
    "from sklearn.metrics import confusion_matrix\n",
    "from sklearn.metrics import precision_score, recall_score, f1_score, accuracy_score\n",
    "import matplotlib.pyplot as plt"
   ]
  },
  {
   "cell_type": "code",
   "execution_count": 71,
   "id": "90897d59",
   "metadata": {},
   "outputs": [],
   "source": [
    "pred_test_arr=[]\n",
    "for i in prediction_test:\n",
    "    if i>0.55:\n",
    "        pred_test_arr.append(1)\n",
    "    else:\n",
    "        pred_test_arr.append(0)\n",
    "        "
   ]
  },
  {
   "cell_type": "code",
   "execution_count": 72,
   "id": "5667ae05",
   "metadata": {},
   "outputs": [
    {
     "data": {
      "image/png": "[encoded data removed]",
      "text/plain": [
       "<Figure size 500x500 with 1 Axes>"
      ]
     },
     "metadata": {},
     "output_type": "display_data"
    }
   ],
   "source": [
    "# Standardize the data set\n",
    "#\n",
    "sc = StandardScaler()\n",
    "sc.fit(X_train)\n",
    "X_train_std = sc.transform(X_train)\n",
    "X_test_std = sc.transform(X_test)\n",
    "#\n",
    "# Fit the SVC model\n",
    "#\n",
    "svc = SVC(kernel='linear', C=10.0, random_state=1)\n",
    "svc.fit(X_train, y_train)\n",
    "#\n",
    "# Get the predictions\n",
    "#\n",
    "y_pred = svc.predict(X_test)\n",
    "#\n",
    "# Calculate the confusion matrix\n",
    "#\n",
    "conf_matrix = confusion_matrix(y_true=y_test, y_pred=pred_test_arr)\n",
    "#\n",
    "# Print the confusion matrix using Matplotlib\n",
    "#\n",
    "fig, ax = plt.subplots(figsize=(5, 5))\n",
    "ax.matshow(conf_matrix, cmap=plt.cm.Oranges, alpha=0.3)\n",
    "for i in range(conf_matrix.shape[0]):\n",
    "    for j in range(conf_matrix.shape[1]):\n",
    "        ax.text(x=j, y=i,s=conf_matrix[i, j], va='center', ha='center', size='xx-large')\n",
    "plt.xlabel('Predictions', fontsize=18)\n",
    "plt.ylabel('Actuals', fontsize=18)\n",
    "plt.title('Confusion Matrix', fontsize=18)\n",
    "plt.show()"
   ]
  },
  {
   "cell_type": "code",
   "execution_count": 73,
   "id": "12ed7b27",
   "metadata": {},
   "outputs": [
    {
     "name": "stdout",
     "output_type": "stream",
     "text": [
      "22 6 11 13\n"
     ]
    }
   ],
   "source": [
    "from sklearn.metrics import confusion_matrix\n",
    "\n",
    "y_true = y_test\n",
    "y_pred = pred_test_arr\n",
    "\n",
    "tn, fp, fn, tp = confusion_matrix(y_true, y_pred, labels=[0, 1]).ravel()\n",
    "print(tn, fp, fn, tp)  # 1 1 1 1"
   ]
  },
  {
   "cell_type": "markdown",
   "id": "33dab426",
   "metadata": {},
   "source": [
    "### Precission Score of TESTING SET"
   ]
  },
  {
   "cell_type": "code",
   "execution_count": 74,
   "id": "9b5b9a4e",
   "metadata": {},
   "outputs": [
    {
     "name": "stdout",
     "output_type": "stream",
     "text": [
      "0.6842105263157895\n"
     ]
    }
   ],
   "source": [
    "precission_score = tp/(tp+fp)\n",
    "\n",
    "print(precission_score)"
   ]
  },
  {
   "cell_type": "markdown",
   "id": "d0b64ec7",
   "metadata": {},
   "source": [
    "### F1 score of TESTING SET"
   ]
  },
  {
   "cell_type": "code",
   "execution_count": 75,
   "id": "c03c6d6a",
   "metadata": {},
   "outputs": [
    {
     "data": {
      "text/plain": [
       "0.721311475409836"
      ]
     },
     "execution_count": 75,
     "metadata": {},
     "output_type": "execute_result"
    }
   ],
   "source": [
    "\n",
    "from sklearn.metrics import f1_score\n",
    "\n",
    "a=tn+fp\n",
    "b=fn+tp\n",
    "actual = np.repeat([1, 0], repeats=[a,b])\n",
    "\n",
    "#define array of predicted classes\n",
    "pred = np.repeat([1, 0, 1, 0], repeats=[tn,fp,fn,tp])   #38, 6, 23, 19\n",
    "\n",
    "#calculate F1 score\n",
    "f1_score(actual, pred)\n"
   ]
  },
  {
   "cell_type": "markdown",
   "id": "32c23cef",
   "metadata": {},
   "source": [
    "## CONFUSION MATRIX OF TRAINING SET"
   ]
  },
  {
   "cell_type": "code",
   "execution_count": 76,
   "id": "716e6280",
   "metadata": {},
   "outputs": [
    {
     "data": {
      "text/plain": [
       "array([1, 1, 0, 1, 0, 0, 0, 0, 0, 0, 0, 0, 1, 0, 1, 1, 1, 0, 1, 0, 1, 0,\n",
       "       0, 1, 0, 0, 0, 1, 0, 1, 0, 0, 1, 1, 1, 1, 0, 1, 0, 1, 0, 0, 0, 0,\n",
       "       0, 1, 1, 1, 1, 1, 0, 1, 1, 1, 0, 0, 1, 0, 1, 1, 1, 0, 0, 0, 0, 1,\n",
       "       1, 0, 1, 1, 1, 0, 1, 0, 0, 0, 0, 1, 1, 0, 1, 0, 0, 1, 0, 0, 0, 0,\n",
       "       1, 0, 1, 1, 1, 0, 1, 1, 1, 0, 1, 1, 1, 0, 0, 1, 1, 1, 0, 0, 0, 0,\n",
       "       1, 0, 0, 1, 1, 1, 0, 1, 0, 0, 1, 1, 1, 1, 0, 1, 1, 1, 0, 0, 1, 1,\n",
       "       0, 0, 1, 0, 1, 0, 0, 0, 0, 0, 0, 1, 0, 1, 1, 0, 0, 0, 0, 0, 1, 0,\n",
       "       1, 0, 0, 0, 1, 0, 0, 0, 0, 0, 0, 0, 0, 1, 1, 1, 0, 0, 1, 1, 0, 0,\n",
       "       1, 1, 0, 0, 0, 0, 0, 0, 0, 0, 1, 0, 0, 1, 1, 0, 1, 1, 1, 0, 1, 0,\n",
       "       0, 1, 1, 1, 1, 1, 0, 1, 0, 0, 1, 1, 0, 0, 1, 0, 1, 1, 1, 1, 0, 1,\n",
       "       1, 0, 0, 1, 0, 1, 0, 0, 1, 0, 1, 0, 0, 1, 1, 1, 1, 1, 1, 0, 1, 1,\n",
       "       0, 0, 0, 1, 1, 0, 0, 0, 1, 1, 1, 0, 0, 0, 1], dtype=int64)"
      ]
     },
     "execution_count": 76,
     "metadata": {},
     "output_type": "execute_result"
    }
   ],
   "source": [
    "y_train_arr=y_train.to_numpy()\n",
    "y_train_arr"
   ]
  },
  {
   "cell_type": "code",
   "execution_count": 77,
   "id": "e57ae16b",
   "metadata": {},
   "outputs": [
    {
     "name": "stdout",
     "output_type": "stream",
     "text": [
      "[1, 0, 0, 0, 0, 0, 0, 0, 0, 0, 1, 0, 1, 0, 0, 0, 0, 0, 1, 0, 0, 0, 0, 1, 0, 0, 0, 1, 0, 1, 0, 0, 0, 1, 1, 1, 0, 0, 0, 1, 0, 0, 0, 0, 0, 1, 1, 0, 0, 1, 1, 0, 0, 1, 0, 0, 1, 0, 0, 0, 0, 0, 0, 0, 0, 0, 0, 0, 1, 1, 1, 0, 1, 0, 0, 0, 0, 1, 1, 0, 0, 0, 0, 1, 0, 0, 0, 1, 1, 0, 1, 1, 0, 0, 1, 1, 1, 0, 1, 1, 0, 1, 0, 0, 0, 1, 0, 1, 1, 1, 1, 0, 0, 1, 0, 0, 0, 0, 0, 0, 1, 1, 1, 1, 0, 1, 0, 0, 0, 0, 0, 1, 0, 0, 0, 0, 1, 0, 1, 0, 1, 0, 1, 0, 0, 0, 1, 0, 0, 0, 0, 0, 1, 0, 0, 0, 0, 0, 1, 0, 0, 0, 0, 0, 0, 0, 0, 0, 0, 0, 0, 0, 1, 0, 0, 0, 1, 0, 0, 0, 0, 0, 0, 0, 0, 0, 1, 0, 0, 1, 1, 0, 0, 1, 1, 0, 1, 0, 0, 1, 1, 1, 1, 0, 0, 0, 1, 0, 0, 1, 0, 0, 1, 0, 0, 0, 1, 1, 0, 0, 0, 0, 0, 0, 1, 1, 0, 0, 0, 0, 0, 0, 0, 1, 1, 1, 1, 0, 1, 0, 0, 1, 1, 0, 0, 0, 1, 0, 0, 0, 1, 0, 1, 0, 0, 1, 0]\n"
     ]
    }
   ],
   "source": [
    "pred_train_arr=[]\n",
    "for i in prediction_train:\n",
    "    if i>0.60:\n",
    "        pred_train_arr.append(1)\n",
    "    else:\n",
    "        pred_train_arr.append(0)\n",
    "print(pred_train_arr)\n",
    "            "
   ]
  },
  {
   "cell_type": "code",
   "execution_count": 78,
   "id": "5f736eb9",
   "metadata": {},
   "outputs": [
    {
     "name": "stdout",
     "output_type": "stream",
     "text": [
      "121 14 53 69\n"
     ]
    }
   ],
   "source": [
    "y_true = y_train_arr\n",
    "y_pred = pred_train_arr\n",
    "\n",
    "tn, fp, fn, tp = confusion_matrix(y_true, y_pred, labels=[0, 1]).ravel()\n",
    "print(tn, fp, fn, tp)  # 1 1 1 1"
   ]
  },
  {
   "cell_type": "markdown",
   "id": "2a816f33",
   "metadata": {},
   "source": [
    "### Precission Score of TRAINING SET"
   ]
  },
  {
   "cell_type": "code",
   "execution_count": 79,
   "id": "2bf5a5d6",
   "metadata": {},
   "outputs": [
    {
     "name": "stdout",
     "output_type": "stream",
     "text": [
      "0.8313253012048193\n"
     ]
    }
   ],
   "source": [
    "precission_score=tp/(tp+fp)\n",
    "\n",
    "print( precission_score)"
   ]
  },
  {
   "cell_type": "markdown",
   "id": "c56b1368",
   "metadata": {},
   "source": [
    "### F1 Score of TRAINING SET"
   ]
  },
  {
   "cell_type": "code",
   "execution_count": 80,
   "id": "020b503f",
   "metadata": {},
   "outputs": [
    {
     "data": {
      "text/plain": [
       "0.7831715210355987"
      ]
     },
     "execution_count": 80,
     "metadata": {},
     "output_type": "execute_result"
    }
   ],
   "source": [
    "#define array of actual classes\n",
    "a=tn+fp\n",
    "b=fn+tp\n",
    "actual = np.repeat([1, 0], repeats=[a,b])\n",
    "\n",
    "#define array of predicted classes\n",
    "pred = np.repeat([1, 0, 1, 0], repeats=[tn,fp,fn,tp])  #38, 6, 23, 19\n",
    "\n",
    "#calculate F1 score\n",
    "f1_score(actual, pred)\n"
   ]
  },
  {
   "cell_type": "code",
   "execution_count": 81,
   "id": "3a270388",
   "metadata": {},
   "outputs": [
    {
     "name": "stdout",
     "output_type": "stream",
     "text": [
      "0.7300971150398254 0.791262149810791 0.7392995953559875 0.7307692170143127\n"
     ]
    }
   ],
   "source": [
    "print(DataSet_ACC\n",
    ",CV_ACC\n",
    ",Train_Acc\n",
    ",Test_Acc)"
   ]
  },
  {
   "cell_type": "markdown",
   "id": "d4a63551",
   "metadata": {},
   "source": [
    "# EXAMPLE"
   ]
  },
  {
   "cell_type": "code",
   "execution_count": 82,
   "id": "82899452",
   "metadata": {},
   "outputs": [
    {
     "name": "stdout",
     "output_type": "stream",
     "text": [
      "1/1 [==============================] - 0s 128ms/step\n",
      " predicting probability of participation: [[0.56337875]]\n"
     ]
    }
   ],
   "source": [
    "ex=np.array([[\"Car\",30,15]])\n",
    "ex[:, 0] = le_mobility.transform(ex[:,0])\n",
    "ex = ex.astype(float)\n",
    "ex\n",
    "prediction = model.predict(ex)  # a zero\n",
    " \n",
    "    \n",
    "print(f\" predicting probability of participation: {prediction}\")"
   ]
  },
  {
   "cell_type": "markdown",
   "id": "0b5d90ac",
   "metadata": {},
   "source": [
    "## Percent_test = len(X_test)/len(X)\n",
    "Percent_test*100"
   ]
  },
  {
   "cell_type": "code",
   "execution_count": 83,
   "id": "41b84240",
   "metadata": {},
   "outputs": [
    {
     "data": {
      "text/plain": [
       "515"
      ]
     },
     "execution_count": 83,
     "metadata": {},
     "output_type": "execute_result"
    }
   ],
   "source": [
    "len(b_encoded)"
   ]
  },
  {
   "cell_type": "code",
   "execution_count": null,
   "id": "a3469a8a",
   "metadata": {},
   "outputs": [],
   "source": []
  },
  {
   "cell_type": "code",
   "execution_count": null,
   "id": "6c5a8034",
   "metadata": {},
   "outputs": [],
   "source": []
  },
  {
   "cell_type": "code",
   "execution_count": null,
   "id": "7887038b",
   "metadata": {},
   "outputs": [],
   "source": []
  }
 ],
 "metadata": {
  "kernelspec": {
   "display_name": "Python 3 (ipykernel)",
   "language": "python",
   "name": "python3"
  },
  "language_info": {
   "codemirror_mode": {
    "name": "ipython",
    "version": 3
   },
   "file_extension": ".py",
   "mimetype": "text/x-python",
   "name": "python",
   "nbconvert_exporter": "python",
   "pygments_lexer": "ipython3",
   "version": "3.10.1"
  }
 },
 "nbformat": 4,
 "nbformat_minor": 5
}
